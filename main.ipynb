{
 "cells": [
  {
   "cell_type": "markdown",
   "metadata": {},
   "source": [
    "## NLP Midterm Assignment"
   ]
  },
  {
   "cell_type": "code",
   "execution_count": 1,
   "metadata": {},
   "outputs": [],
   "source": [
    "import spacy\n",
    "import os\n",
    "from collections import Counter, defaultdict\n",
    "import pandas as pd\n",
    "import numpy as np\n",
    "import matplotlib as plt\n",
    "import seaborn as sns"
   ]
  },
  {
   "cell_type": "markdown",
   "metadata": {},
   "source": [
    "### 1.1 Introduction"
   ]
  },
  {
   "cell_type": "markdown",
   "metadata": {},
   "source": [
    "### 1.2 Data Preprocessing"
   ]
  },
  {
   "cell_type": "code",
   "execution_count": 61,
   "metadata": {},
   "outputs": [],
   "source": [
    "df = pd.read_csv('datasets/guardian_dataset_cleaned.csv', index_col=[0])\n",
    "df = df.dropna()"
   ]
  },
  {
   "cell_type": "code",
   "execution_count": 5,
   "metadata": {},
   "outputs": [
    {
     "data": {
      "text/html": [
       "<div>\n",
       "<style scoped>\n",
       "    .dataframe tbody tr th:only-of-type {\n",
       "        vertical-align: middle;\n",
       "    }\n",
       "\n",
       "    .dataframe tbody tr th {\n",
       "        vertical-align: top;\n",
       "    }\n",
       "\n",
       "    .dataframe thead th {\n",
       "        text-align: right;\n",
       "    }\n",
       "</style>\n",
       "<table border=\"1\" class=\"dataframe\">\n",
       "  <thead>\n",
       "    <tr style=\"text-align: right;\">\n",
       "      <th></th>\n",
       "      <th>headline</th>\n",
       "      <th>body</th>\n",
       "      <th>date</th>\n",
       "    </tr>\n",
       "  </thead>\n",
       "  <tbody>\n",
       "    <tr>\n",
       "      <th>0</th>\n",
       "      <td>The sure way to end the war</td>\n",
       "      <td>Mr Winston Churchill at the London Opera House...</td>\n",
       "      <td>1914-09-12</td>\n",
       "    </tr>\n",
       "    <tr>\n",
       "      <th>1</th>\n",
       "      <td>The Election and After</td>\n",
       "      <td>The election which takes place to-day will dec...</td>\n",
       "      <td>1918-12-14</td>\n",
       "    </tr>\n",
       "    <tr>\n",
       "      <th>2</th>\n",
       "      <td>Italy in Fascist control</td>\n",
       "      <td>At the moment when Mussolini, the leader of th...</td>\n",
       "      <td>1922-10-30</td>\n",
       "    </tr>\n",
       "    <tr>\n",
       "      <th>3</th>\n",
       "      <td>Bavarian monarchist rising broken</td>\n",
       "      <td>The German reactionaries have struck and faile...</td>\n",
       "      <td>1923-11-10</td>\n",
       "    </tr>\n",
       "    <tr>\n",
       "      <th>4</th>\n",
       "      <td>Emergency regulations</td>\n",
       "      <td>The first day of the strike passed off, in a s...</td>\n",
       "      <td>1926-05-06</td>\n",
       "    </tr>\n",
       "  </tbody>\n",
       "</table>\n",
       "</div>"
      ],
      "text/plain": [
       "                            headline  \\\n",
       "0        The sure way to end the war   \n",
       "1             The Election and After   \n",
       "2           Italy in Fascist control   \n",
       "3  Bavarian monarchist rising broken   \n",
       "4              Emergency regulations   \n",
       "\n",
       "                                                body        date  \n",
       "0  Mr Winston Churchill at the London Opera House...  1914-09-12  \n",
       "1  The election which takes place to-day will dec...  1918-12-14  \n",
       "2  At the moment when Mussolini, the leader of th...  1922-10-30  \n",
       "3  The German reactionaries have struck and faile...  1923-11-10  \n",
       "4  The first day of the strike passed off, in a s...  1926-05-06  "
      ]
     },
     "execution_count": 5,
     "metadata": {},
     "output_type": "execute_result"
    }
   ],
   "source": [
    "df.head()"
   ]
  },
  {
   "cell_type": "code",
   "execution_count": 62,
   "metadata": {},
   "outputs": [
    {
     "data": {
      "text/html": [
       "<div>\n",
       "<style scoped>\n",
       "    .dataframe tbody tr th:only-of-type {\n",
       "        vertical-align: middle;\n",
       "    }\n",
       "\n",
       "    .dataframe tbody tr th {\n",
       "        vertical-align: top;\n",
       "    }\n",
       "\n",
       "    .dataframe thead th {\n",
       "        text-align: right;\n",
       "    }\n",
       "</style>\n",
       "<table border=\"1\" class=\"dataframe\">\n",
       "  <thead>\n",
       "    <tr style=\"text-align: right;\">\n",
       "      <th></th>\n",
       "      <th>headline</th>\n",
       "      <th>body</th>\n",
       "      <th>date</th>\n",
       "    </tr>\n",
       "  </thead>\n",
       "  <tbody>\n",
       "    <tr>\n",
       "      <th>count</th>\n",
       "      <td>22657</td>\n",
       "      <td>22657</td>\n",
       "      <td>22657</td>\n",
       "    </tr>\n",
       "    <tr>\n",
       "      <th>unique</th>\n",
       "      <td>21254</td>\n",
       "      <td>22577</td>\n",
       "      <td>6926</td>\n",
       "    </tr>\n",
       "    <tr>\n",
       "      <th>top</th>\n",
       "      <td>Diary</td>\n",
       "      <td>The undeclared race to succeed Paddy Ashdown a...</td>\n",
       "      <td>2005-04-04</td>\n",
       "    </tr>\n",
       "    <tr>\n",
       "      <th>freq</th>\n",
       "      <td>567</td>\n",
       "      <td>3</td>\n",
       "      <td>173</td>\n",
       "    </tr>\n",
       "  </tbody>\n",
       "</table>\n",
       "</div>"
      ],
      "text/plain": [
       "       headline                                               body        date\n",
       "count     22657                                              22657       22657\n",
       "unique    21254                                              22577        6926\n",
       "top       Diary  The undeclared race to succeed Paddy Ashdown a...  2005-04-04\n",
       "freq        567                                                  3         173"
      ]
     },
     "execution_count": 62,
     "metadata": {},
     "output_type": "execute_result"
    }
   ],
   "source": [
    "df.describe()"
   ]
  },
  {
   "cell_type": "code",
   "execution_count": 21,
   "metadata": {},
   "outputs": [],
   "source": [
    "df2 = df.copy()\n",
    "df2['year'] = pd.DatetimeIndex(df2['date']).year"
   ]
  },
  {
   "cell_type": "code",
   "execution_count": 36,
   "metadata": {},
   "outputs": [],
   "source": [
    "df2['decade'] = df2['year'] - df2['year']%10"
   ]
  },
  {
   "cell_type": "code",
   "execution_count": 22,
   "metadata": {},
   "outputs": [
    {
     "data": {
      "text/html": [
       "<div>\n",
       "<style scoped>\n",
       "    .dataframe tbody tr th:only-of-type {\n",
       "        vertical-align: middle;\n",
       "    }\n",
       "\n",
       "    .dataframe tbody tr th {\n",
       "        vertical-align: top;\n",
       "    }\n",
       "\n",
       "    .dataframe thead th {\n",
       "        text-align: right;\n",
       "    }\n",
       "</style>\n",
       "<table border=\"1\" class=\"dataframe\">\n",
       "  <thead>\n",
       "    <tr style=\"text-align: right;\">\n",
       "      <th></th>\n",
       "      <th>headline</th>\n",
       "      <th>body</th>\n",
       "      <th>date</th>\n",
       "    </tr>\n",
       "    <tr>\n",
       "      <th>year</th>\n",
       "      <th></th>\n",
       "      <th></th>\n",
       "      <th></th>\n",
       "    </tr>\n",
       "  </thead>\n",
       "  <tbody>\n",
       "    <tr>\n",
       "      <th>1914</th>\n",
       "      <td>1</td>\n",
       "      <td>1</td>\n",
       "      <td>1</td>\n",
       "    </tr>\n",
       "    <tr>\n",
       "      <th>1918</th>\n",
       "      <td>1</td>\n",
       "      <td>1</td>\n",
       "      <td>1</td>\n",
       "    </tr>\n",
       "    <tr>\n",
       "      <th>1922</th>\n",
       "      <td>1</td>\n",
       "      <td>1</td>\n",
       "      <td>1</td>\n",
       "    </tr>\n",
       "    <tr>\n",
       "      <th>1923</th>\n",
       "      <td>1</td>\n",
       "      <td>1</td>\n",
       "      <td>1</td>\n",
       "    </tr>\n",
       "    <tr>\n",
       "      <th>1926</th>\n",
       "      <td>1</td>\n",
       "      <td>1</td>\n",
       "      <td>1</td>\n",
       "    </tr>\n",
       "    <tr>\n",
       "      <th>...</th>\n",
       "      <td>...</td>\n",
       "      <td>...</td>\n",
       "      <td>...</td>\n",
       "    </tr>\n",
       "    <tr>\n",
       "      <th>2018</th>\n",
       "      <td>645</td>\n",
       "      <td>645</td>\n",
       "      <td>645</td>\n",
       "    </tr>\n",
       "    <tr>\n",
       "      <th>2019</th>\n",
       "      <td>834</td>\n",
       "      <td>834</td>\n",
       "      <td>834</td>\n",
       "    </tr>\n",
       "    <tr>\n",
       "      <th>2020</th>\n",
       "      <td>278</td>\n",
       "      <td>278</td>\n",
       "      <td>278</td>\n",
       "    </tr>\n",
       "    <tr>\n",
       "      <th>2021</th>\n",
       "      <td>522</td>\n",
       "      <td>522</td>\n",
       "      <td>522</td>\n",
       "    </tr>\n",
       "    <tr>\n",
       "      <th>2022</th>\n",
       "      <td>181</td>\n",
       "      <td>181</td>\n",
       "      <td>181</td>\n",
       "    </tr>\n",
       "  </tbody>\n",
       "</table>\n",
       "<p>67 rows × 3 columns</p>\n",
       "</div>"
      ],
      "text/plain": [
       "      headline  body  date\n",
       "year                      \n",
       "1914         1     1     1\n",
       "1918         1     1     1\n",
       "1922         1     1     1\n",
       "1923         1     1     1\n",
       "1926         1     1     1\n",
       "...        ...   ...   ...\n",
       "2018       645   645   645\n",
       "2019       834   834   834\n",
       "2020       278   278   278\n",
       "2021       522   522   522\n",
       "2022       181   181   181\n",
       "\n",
       "[67 rows x 3 columns]"
      ]
     },
     "execution_count": 22,
     "metadata": {},
     "output_type": "execute_result"
    }
   ],
   "source": [
    "df2.groupby(['year']).count()"
   ]
  },
  {
   "cell_type": "code",
   "execution_count": 37,
   "metadata": {},
   "outputs": [
    {
     "data": {
      "text/plain": [
       "<seaborn.axisgrid.FacetGrid at 0x24773f5c700>"
      ]
     },
     "execution_count": 37,
     "metadata": {},
     "output_type": "execute_result"
    },
    {
     "data": {
      "text/plain": [
       "<Figure size 432x288 with 0 Axes>"
      ]
     },
     "metadata": {},
     "output_type": "display_data"
    },
    {
     "data": {
      "image/png": "[encoded data removed]",
      "text/plain": [
       "<Figure size 360x360 with 1 Axes>"
      ]
     },
     "metadata": {
      "needs_background": "light"
     },
     "output_type": "display_data"
    }
   ],
   "source": [
    "plt.pyplot.figure()\n",
    "sns.catplot(x='decade', kind='count', data=df2)"
   ]
  },
  {
   "cell_type": "code",
   "execution_count": 51,
   "metadata": {},
   "outputs": [
    {
     "data": {
      "text/plain": [
       "51"
      ]
     },
     "execution_count": 51,
     "metadata": {},
     "output_type": "execute_result"
    }
   ],
   "source": [
    "df2[df2['year'] < 1990]"
   ]
  },
  {
   "cell_type": "code",
   "execution_count": 15,
   "metadata": {},
   "outputs": [
    {
     "data": {
      "text/plain": [
       "22687"
      ]
     },
     "execution_count": 15,
     "metadata": {},
     "output_type": "execute_result"
    }
   ],
   "source": [
    "len(list(df['headline']))"
   ]
  },
  {
   "cell_type": "code",
   "execution_count": 66,
   "metadata": {},
   "outputs": [],
   "source": [
    "document_headlines = df['headline'].to_list()\n",
    "document_body = df['body'].to_list()"
   ]
  },
  {
   "cell_type": "code",
   "execution_count": 67,
   "metadata": {},
   "outputs": [
    {
     "name": "stdout",
     "output_type": "stream",
     "text": [
      "<class 'pandas.core.frame.DataFrame'>\n",
      "Int64Index: 22657 entries, 0 to 22686\n",
      "Data columns (total 3 columns):\n",
      " #   Column    Non-Null Count  Dtype \n",
      "---  ------    --------------  ----- \n",
      " 0   headline  22657 non-null  object\n",
      " 1   body      22657 non-null  object\n",
      " 2   date      22657 non-null  object\n",
      "dtypes: object(3)\n",
      "memory usage: 708.0+ KB\n"
     ]
    }
   ],
   "source": [
    "df.info()"
   ]
  },
  {
   "cell_type": "code",
   "execution_count": 41,
   "metadata": {},
   "outputs": [],
   "source": [
    "nlp = spacy.load('en_core_web_sm')"
   ]
  },
  {
   "cell_type": "code",
   "execution_count": 70,
   "metadata": {},
   "outputs": [],
   "source": [
    "raw_docs = [[token.text for token in nlp(doc, disable = ['parser', 'ner'])] for doc in document_headlines]"
   ]
  },
  {
   "cell_type": "code",
   "execution_count": 71,
   "metadata": {},
   "outputs": [],
   "source": [
    "docs_body_token = [[token.text for token in nlp(doc, disable = ['parser', 'ner'])] \n",
    "                    for doc in document_body]"
   ]
  },
  {
   "cell_type": "code",
   "execution_count": 75,
   "metadata": {},
   "outputs": [],
   "source": [
    "docs_body_preprocess = [[token.lemma_ for token in nlp(doc, disable = ['parser', 'ner'])\n",
    "                    if token.is_alpha\n",
    "                    and not token.is_stop\n",
    "                    and len(token.text) > 2]\n",
    "                    for doc in document_body]"
   ]
  },
  {
   "cell_type": "code",
   "execution_count": 79,
   "metadata": {},
   "outputs": [],
   "source": [
    "df['body_token'] = docs_body_token\n",
    "df['body_pproc'] = docs_body_preprocess"
   ]
  },
  {
   "cell_type": "code",
   "execution_count": 82,
   "metadata": {},
   "outputs": [],
   "source": [
    "# df.to_csv('guardian_data_pprocessed.csv')"
   ]
  },
  {
   "cell_type": "code",
   "execution_count": null,
   "metadata": {},
   "outputs": [],
   "source": []
  },
  {
   "cell_type": "code",
   "execution_count": 89,
   "metadata": {},
   "outputs": [],
   "source": [
    "token_count_raw = sum([len(doc) for doc in docs_body_token])\n",
    "token_count_preprocessed = sum([len(doc) for doc in docs_body_preprocess])\n",
    "types_count_raw = len(set([w for doc in docs_body_token for w in doc]))\n",
    "types_count_preprocessed = len(set([w for doc in docs_body_preprocess for w in doc]))"
   ]
  },
  {
   "cell_type": "code",
   "execution_count": 92,
   "metadata": {},
   "outputs": [
    {
     "data": {
      "text/html": [
       "<div>\n",
       "<style scoped>\n",
       "    .dataframe tbody tr th:only-of-type {\n",
       "        vertical-align: middle;\n",
       "    }\n",
       "\n",
       "    .dataframe tbody tr th {\n",
       "        vertical-align: top;\n",
       "    }\n",
       "\n",
       "    .dataframe thead th {\n",
       "        text-align: right;\n",
       "    }\n",
       "</style>\n",
       "<table border=\"1\" class=\"dataframe\">\n",
       "  <thead>\n",
       "    <tr style=\"text-align: right;\">\n",
       "      <th></th>\n",
       "      <th>Tokens</th>\n",
       "      <th>Types</th>\n",
       "    </tr>\n",
       "  </thead>\n",
       "  <tbody>\n",
       "    <tr>\n",
       "      <th>Raw</th>\n",
       "      <td>35347120</td>\n",
       "      <td>154064</td>\n",
       "    </tr>\n",
       "    <tr>\n",
       "      <th>Pre-processed</th>\n",
       "      <td>14347614</td>\n",
       "      <td>109985</td>\n",
       "    </tr>\n",
       "  </tbody>\n",
       "</table>\n",
       "</div>"
      ],
      "text/plain": [
       "                 Tokens   Types\n",
       "Raw            35347120  154064\n",
       "Pre-processed  14347614  109985"
      ]
     },
     "execution_count": 92,
     "metadata": {},
     "output_type": "execute_result"
    }
   ],
   "source": [
    "pd.DataFrame([[token_count_raw, types_count_raw], [token_count_preprocessed,types_count_preprocessed]],\n",
    "            columns = ['Tokens', 'Types'], index=['Raw', 'Pre-processed'])"
   ]
  },
  {
   "cell_type": "code",
   "execution_count": 66,
   "metadata": {},
   "outputs": [],
   "source": [
    "df = pd.read_csv('datasets/guardian_data_pprocessed.csv', index_col=[0])"
   ]
  },
  {
   "cell_type": "code",
   "execution_count": 69,
   "metadata": {},
   "outputs": [],
   "source": [
    "df = df.dropna().reset_index(drop=True)"
   ]
  },
  {
   "cell_type": "code",
   "execution_count": 57,
   "metadata": {},
   "outputs": [],
   "source": [
    "data_pproc = df['body_pproc']\n",
    "data_pproc.reset_index(drop = True, inplace=True)\n",
    "\n",
    "data_raw = df['body_token']\n",
    "data_raw.reset_index(drop = True, inplace=True)"
   ]
  },
  {
   "cell_type": "code",
   "execution_count": 58,
   "metadata": {},
   "outputs": [],
   "source": [
    "for i in range(len(data_pproc)):\n",
    "    try:\n",
    "        data_pproc[i] = data_pproc[i][1:-1].replace(\"'\", '').split(', ')\n",
    "    except Exception:\n",
    "        continue"
   ]
  },
  {
   "cell_type": "code",
   "execution_count": 59,
   "metadata": {},
   "outputs": [],
   "source": [
    "for i in range(len(data_raw)):\n",
    "    try:\n",
    "        data_raw[i] = data_raw[i][1:-1].replace(\"'\", '').split(', ')\n",
    "    except Exception:\n",
    "        continue"
   ]
  },
  {
   "cell_type": "code",
   "execution_count": 70,
   "metadata": {},
   "outputs": [],
   "source": [
    "df['data_raw'] = data_raw"
   ]
  },
  {
   "cell_type": "code",
   "execution_count": 83,
   "metadata": {},
   "outputs": [],
   "source": [
    "df['body_token'] = data_raw"
   ]
  },
  {
   "cell_type": "code",
   "execution_count": 84,
   "metadata": {},
   "outputs": [],
   "source": [
    "df['body_pproc'] = data_pproc"
   ]
  },
  {
   "cell_type": "code",
   "execution_count": 89,
   "metadata": {},
   "outputs": [],
   "source": [
    "df = df.iloc[:,:-1]"
   ]
  },
  {
   "cell_type": "code",
   "execution_count": 93,
   "metadata": {},
   "outputs": [],
   "source": [
    "# df.to_pickle('guardian_dataset_pickle.p')"
   ]
  },
  {
   "cell_type": "code",
   "execution_count": 2,
   "metadata": {},
   "outputs": [],
   "source": [
    "df = pd.read_pickle('datasets/guardian_dataset_pickle.p')"
   ]
  },
  {
   "cell_type": "code",
   "execution_count": 5,
   "metadata": {},
   "outputs": [],
   "source": [
    "data_pproc = df['body_pproc']"
   ]
  },
  {
   "cell_type": "code",
   "execution_count": 6,
   "metadata": {},
   "outputs": [],
   "source": [
    "del df"
   ]
  },
  {
   "cell_type": "markdown",
   "metadata": {},
   "source": [
    "### Word2Vec"
   ]
  },
  {
   "cell_type": "code",
   "execution_count": 6,
   "metadata": {},
   "outputs": [],
   "source": [
    "from gensim.models import Word2Vec, Doc2Vec\n",
    "from gensim.models.word2vec import FAST_VERSION"
   ]
  },
  {
   "cell_type": "code",
   "execution_count": 77,
   "metadata": {},
   "outputs": [
    {
     "data": {
      "text/plain": [
       "(0, 0)"
      ]
     },
     "execution_count": 77,
     "metadata": {},
     "output_type": "execute_result"
    }
   ],
   "source": [
    "w2v = Word2Vec(vector_size=100, # vector size\n",
    "               window=20, # window for sampling\n",
    "               sample=0.001, # subsampling rate\n",
    "               epochs=200, # iterations\n",
    "               negative=5, # negative samples\n",
    "               min_count=10, # minimum threshold\n",
    "               workers=-1, # parallelize to all cores\n",
    "               hs=0, # no hierarchical softmax\n",
    "               seed=0)\n",
    "w2v.build_vocab(data_pproc)\n",
    "w2v.train(data_pproc, total_examples=w2v.corpus_count, epochs=w2v.epochs)"
   ]
  },
  {
   "cell_type": "code",
   "execution_count": 101,
   "metadata": {},
   "outputs": [
    {
     "data": {
      "text/plain": [
       "[('death', 0.3891639709472656),\n",
       " ('euroland', 0.38123318552970886),\n",
       " ('toehold', 0.3811361789703369),\n",
       " ('Lennon', 0.34585633873939514),\n",
       " ('lapel', 0.3437573313713074),\n",
       " ('downhill', 0.34325793385505676),\n",
       " ('footed', 0.3336268663406372),\n",
       " ('misperception', 0.33294588327407837),\n",
       " ('Maryland', 0.3325503170490265),\n",
       " ('inscribe', 0.3312946856021881)]"
      ]
     },
     "execution_count": 101,
     "metadata": {},
     "output_type": "execute_result"
    }
   ],
   "source": [
    "w2v.wv.most_similar(['Iraq'])"
   ]
  },
  {
   "cell_type": "code",
   "execution_count": 104,
   "metadata": {},
   "outputs": [
    {
     "data": {
      "text/plain": [
       "[('flexibly', 0.4174644351005554),\n",
       " ('Deborah', 0.4041740298271179),\n",
       " ('school', 0.3753429651260376),\n",
       " ('immune', 0.3740305006504059),\n",
       " ('subside', 0.373502254486084),\n",
       " ('decouple', 0.36919644474983215),\n",
       " ('Plant', 0.3605331778526306),\n",
       " ('Norwood', 0.3571367561817169),\n",
       " ('famed', 0.356245219707489),\n",
       " ('Abuses', 0.35018983483314514)]"
      ]
     },
     "execution_count": 104,
     "metadata": {},
     "output_type": "execute_result"
    }
   ],
   "source": [
    "w2v.wv.most_similar(['Iran'])"
   ]
  },
  {
   "cell_type": "markdown",
   "metadata": {},
   "source": [
    "### Doc2Vec"
   ]
  },
  {
   "cell_type": "code",
   "execution_count": 185,
   "metadata": {},
   "outputs": [],
   "source": [
    "df['tags'] = np.empty((len(df), 0)).tolist()"
   ]
  },
  {
   "cell_type": "code",
   "execution_count": 196,
   "metadata": {},
   "outputs": [
    {
     "data": {
      "text/plain": [
       "22493    None\n",
       "22502    None\n",
       "22505    None\n",
       "22508    None\n",
       "22512    None\n",
       "         ... \n",
       "22651    None\n",
       "22652    None\n",
       "22653    None\n",
       "22654    None\n",
       "22656    None\n",
       "Name: tags, Length: 107, dtype: object"
      ]
     },
     "execution_count": 196,
     "metadata": {},
     "output_type": "execute_result"
    }
   ],
   "source": [
    "df[(df['date'] >= '2022') & (df['body'].str.contains('Ukraine'))]['tags']\\\n",
    "    .apply(lambda x: x.append('Ukraine'))\n",
    "\n",
    "df[(df['date'] <= '2009' ) & (df['date'] >= '2003') & (df['body'].str.contains('Iraq'))]['tags']\\\n",
    "    .apply(lambda x: x.append('Iraq'))\n",
    "\n",
    "df[(df['date'] <= '2022' ) & (df['date'] >= '2001') & (df['body'].str.contains('Afghanistan'))]['tags']\\\n",
    "    .apply(lambda x: x.append('Afghanistan'))\n",
    "\n",
    "df[(df['date'] <= '2013' ) & (df['date'] >= '2011') & (df['body'].str.contains('Libya'))]['tags']\\\n",
    "    .apply(lambda x: x.append('Libya'))\n",
    "\n",
    "df[(df['date'] >= '2014') & (df['body'].str.contains('ISIS|ISIL|Boko Haram|Syria'))]['tags']\\\n",
    "    .apply(lambda x: x.append('ISIS'))\n",
    "\n",
    "df[(df['date'] >= '1967') & (df['date'] <= '2000') & (df['body'].str.contains('(?i)irish|IRA|Ireland'))]['tags']\\\n",
    "    .apply(lambda x: x.append('N.Ireland'))"
   ]
  },
  {
   "cell_type": "code",
   "execution_count": 263,
   "metadata": {},
   "outputs": [],
   "source": [
    "data_tagged = df[df['tags'].apply(len) > 0]"
   ]
  },
  {
   "cell_type": "code",
   "execution_count": 267,
   "metadata": {},
   "outputs": [],
   "source": [
    "from gensim.models.doc2vec import TaggedDocument\n",
    "\n",
    "corpus = []\n",
    "for tags, text in zip(data_tagged['tags'], data_tagged['body_pproc']):\n",
    "    corpus.append(TaggedDocument(words = text, tags=tags))"
   ]
  },
  {
   "cell_type": "code",
   "execution_count": 269,
   "metadata": {},
   "outputs": [],
   "source": [
    "d2v_model = Doc2Vec(vector_size=100, \n",
    "                    window=15,\n",
    "                    hs=0,\n",
    "                    sample=0.000001,\n",
    "                    negative=5,\n",
    "                    min_count=100,\n",
    "                    workers=-1,\n",
    "                    epochs=500,\n",
    "                    dm=0, \n",
    "                    dbow_words=1)\n",
    "\n",
    "# build the vocabulary\n",
    "d2v_model.build_vocab(corpus)\n",
    "\n",
    "# train the model\n",
    "d2v_model.train(corpus, total_examples=d2v_model.corpus_count, epochs=d2v_model.epochs)"
   ]
  },
  {
   "cell_type": "code",
   "execution_count": 271,
   "metadata": {},
   "outputs": [
    {
     "name": "stdout",
     "output_type": "stream",
     "text": [
      "[('Ukraine', 0.02098369598388672), ('Libya', 0.01790858432650566), ('N.Ireland', -9.824011067394167e-05), ('Afghanistan', -0.05219166353344917), ('ISIS', -0.058308977633714676)]\n"
     ]
    }
   ],
   "source": [
    "similar_docs = d2v_model.dv.most_similar('Iraq')\n",
    "print(similar_docs)"
   ]
  },
  {
   "cell_type": "code",
   "execution_count": 274,
   "metadata": {},
   "outputs": [
    {
     "name": "stdout",
     "output_type": "stream",
     "text": [
      "[('Afghanistan', 0.16262522339820862), ('Ukraine', 0.13099969923496246), ('Iraq', -9.823800064623356e-05), ('Libya', -0.01633305475115776), ('ISIS', -0.07919134944677353)]\n"
     ]
    }
   ],
   "source": [
    "similar_docs = d2v_model.dv.most_similar('N.Ireland')\n",
    "print(similar_docs)"
   ]
  },
  {
   "cell_type": "code",
   "execution_count": null,
   "metadata": {},
   "outputs": [],
   "source": []
  },
  {
   "cell_type": "code",
   "execution_count": 278,
   "metadata": {},
   "outputs": [
    {
     "data": {
      "text/plain": [
       "'Winston Churchill London Opera House tonight sound stir people country army shield successful navy enable end war way hope intend shall end packed enthusiastic gathering address bring invitation National Liberal Club Constitutional Club act audience speaker representative party creed class hour speaking begin seat theatre fill thousand people unable door direct overflow meeting Kingsway Hall Marquis Lincolnshire preside say great crisis political sword return scabbard invitation lead political club Metropolis inhabitant Greater London representative class express admiration gallant troop brave ally pledge reinforce Cheers Winston Churchill receive loud cheer move meeting citizen London profoundly believe fight cause vindication right small state public law Europe pledge unswervingly support Prime Minister appeal nation measure necessary prosecution war victorious conclusion last peace Europe assure Cheers Churchill say gentleman time meet abode diversion pleasure time peace wish mean erouse encourage way purpose merriment jollification sure associate friend tonight noble friend chairman regard cheer receive offer mean soldier field sailor sea sense accept thank'"
      ]
     },
     "execution_count": 278,
     "metadata": {},
     "output_type": "execute_result"
    }
   ],
   "source": []
  },
  {
   "cell_type": "markdown",
   "metadata": {},
   "source": [
    "### TF-IDF"
   ]
  },
  {
   "cell_type": "code",
   "execution_count": 11,
   "metadata": {},
   "outputs": [],
   "source": [
    "from sklearn.feature_extraction.text import TfidfVectorizer, CountVectorizer\n",
    "from gensim.models import LdaMulticore, TfidfModel, CoherenceModel"
   ]
  },
  {
   "cell_type": "code",
   "execution_count": 7,
   "metadata": {},
   "outputs": [],
   "source": [
    "docs_lemm = [' '.join(doc) for doc in data_pproc]"
   ]
  },
  {
   "cell_type": "code",
   "execution_count": 12,
   "metadata": {},
   "outputs": [],
   "source": [
    "tfidf_vectorizer = TfidfVectorizer(analyzer='word', \n",
    "                                   ngram_range=(1,3),\n",
    "                                   stop_words='english',\n",
    "                                   min_df=0.001, \n",
    "                                   max_df=0.7, \n",
    "                                   sublinear_tf=True)\n",
    "\n",
    "X = tfidf_vectorizer.fit_transform(docs_lemm)"
   ]
  },
  {
   "cell_type": "code",
   "execution_count": 13,
   "metadata": {},
   "outputs": [],
   "source": [
    "count_vectorizer = CountVectorizer(analyzer='word', \n",
    "                                   ngram_range=(1,3),\n",
    "                                   stop_words='english',\n",
    "                                   min_df=0.001, \n",
    "                                   max_df=0.7)\n",
    "\n",
    "X2 = count_vectorizer.fit_transform(docs_lemm)"
   ]
  },
  {
   "cell_type": "code",
   "execution_count": 14,
   "metadata": {},
   "outputs": [
    {
     "data": {
      "text/plain": [
       "(22657, 85751)"
      ]
     },
     "execution_count": 14,
     "metadata": {},
     "output_type": "execute_result"
    }
   ],
   "source": [
    "X.shape"
   ]
  },
  {
   "cell_type": "code",
   "execution_count": 16,
   "metadata": {},
   "outputs": [
    {
     "data": {
      "text/html": [
       "<div>\n",
       "<style scoped>\n",
       "    .dataframe tbody tr th:only-of-type {\n",
       "        vertical-align: middle;\n",
       "    }\n",
       "\n",
       "    .dataframe tbody tr th {\n",
       "        vertical-align: top;\n",
       "    }\n",
       "\n",
       "    .dataframe thead th {\n",
       "        text-align: right;\n",
       "    }\n",
       "</style>\n",
       "<table border=\"1\" class=\"dataframe\">\n",
       "  <thead>\n",
       "    <tr style=\"text-align: right;\">\n",
       "      <th></th>\n",
       "      <th>word</th>\n",
       "      <th>tf</th>\n",
       "      <th>idf</th>\n",
       "      <th>tfidf</th>\n",
       "    </tr>\n",
       "  </thead>\n",
       "  <tbody>\n",
       "    <tr>\n",
       "      <th>0</th>\n",
       "      <td>labour</td>\n",
       "      <td>112938</td>\n",
       "      <td>1.448643</td>\n",
       "      <td>409.516962</td>\n",
       "    </tr>\n",
       "    <tr>\n",
       "      <th>1</th>\n",
       "      <td>party</td>\n",
       "      <td>88505</td>\n",
       "      <td>1.479386</td>\n",
       "      <td>383.893214</td>\n",
       "    </tr>\n",
       "    <tr>\n",
       "      <th>2</th>\n",
       "      <td>minister</td>\n",
       "      <td>71852</td>\n",
       "      <td>1.391876</td>\n",
       "      <td>367.336620</td>\n",
       "    </tr>\n",
       "    <tr>\n",
       "      <th>3</th>\n",
       "      <td>blair</td>\n",
       "      <td>48973</td>\n",
       "      <td>1.786042</td>\n",
       "      <td>348.113130</td>\n",
       "    </tr>\n",
       "    <tr>\n",
       "      <th>4</th>\n",
       "      <td>people</td>\n",
       "      <td>80577</td>\n",
       "      <td>1.417140</td>\n",
       "      <td>341.373932</td>\n",
       "    </tr>\n",
       "    <tr>\n",
       "      <th>5</th>\n",
       "      <td>time</td>\n",
       "      <td>50847</td>\n",
       "      <td>1.375938</td>\n",
       "      <td>314.350828</td>\n",
       "    </tr>\n",
       "    <tr>\n",
       "      <th>6</th>\n",
       "      <td>new</td>\n",
       "      <td>50867</td>\n",
       "      <td>1.458786</td>\n",
       "      <td>311.330572</td>\n",
       "    </tr>\n",
       "    <tr>\n",
       "      <th>7</th>\n",
       "      <td>prime</td>\n",
       "      <td>38535</td>\n",
       "      <td>1.676255</td>\n",
       "      <td>284.777209</td>\n",
       "    </tr>\n",
       "    <tr>\n",
       "      <th>8</th>\n",
       "      <td>iraq</td>\n",
       "      <td>26906</td>\n",
       "      <td>1.980918</td>\n",
       "      <td>284.567956</td>\n",
       "    </tr>\n",
       "    <tr>\n",
       "      <th>9</th>\n",
       "      <td>prime minister</td>\n",
       "      <td>37352</td>\n",
       "      <td>1.701301</td>\n",
       "      <td>280.900491</td>\n",
       "    </tr>\n",
       "  </tbody>\n",
       "</table>\n",
       "</div>"
      ],
      "text/plain": [
       "             word      tf       idf       tfidf\n",
       "0          labour  112938  1.448643  409.516962\n",
       "1           party   88505  1.479386  383.893214\n",
       "2        minister   71852  1.391876  367.336620\n",
       "3           blair   48973  1.786042  348.113130\n",
       "4          people   80577  1.417140  341.373932\n",
       "5            time   50847  1.375938  314.350828\n",
       "6             new   50867  1.458786  311.330572\n",
       "7           prime   38535  1.676255  284.777209\n",
       "8            iraq   26906  1.980918  284.567956\n",
       "9  prime minister   37352  1.701301  280.900491"
      ]
     },
     "execution_count": 16,
     "metadata": {},
     "output_type": "execute_result"
    }
   ],
   "source": [
    "df_tfidf = pd.DataFrame({'word': count_vectorizer.get_feature_names(), \n",
    "                   'tf': X2.sum(axis=0).A1, \n",
    "                   'idf': tfidf_vectorizer.idf_,\n",
    "                   'tfidf': X.sum(axis=0).A1}).sort_values(['tfidf', 'tf', 'idf'], ascending=False).reset_index(drop=True)\n",
    "\n",
    "df_tfidf.iloc[:10]"
   ]
  },
  {
   "cell_type": "code",
   "execution_count": null,
   "metadata": {},
   "outputs": [],
   "source": []
  },
  {
   "cell_type": "code",
   "execution_count": null,
   "metadata": {},
   "outputs": [],
   "source": []
  },
  {
   "cell_type": "code",
   "execution_count": null,
   "metadata": {},
   "outputs": [],
   "source": []
  },
  {
   "cell_type": "markdown",
   "metadata": {},
   "source": [
    "### Topic Models"
   ]
  },
  {
   "cell_type": "code",
   "execution_count": 17,
   "metadata": {},
   "outputs": [],
   "source": [
    "from gensim.models import LdaMulticore, TfidfModel, CoherenceModel\n",
    "from gensim.corpora import Dictionary\n",
    "from gensim.models.phrases import Phrases\n",
    "\n",
    "import time # to know how long training took\n",
    "import multiprocessing # to speed things up by parallelizing"
   ]
  },
  {
   "cell_type": "code",
   "execution_count": 20,
   "metadata": {},
   "outputs": [],
   "source": [
    "# Getting rid of too rare words and too frequent words (finding topic words per plot)\n",
    "# instances = data_clean['Plot_cleaned'].apply(str.split).tolist()  \n",
    "phrases = Phrases(data_pproc, min_count=5, threshold=1)\n",
    "instances_colloc = phrases[data_pproc]\n",
    "\n"
   ]
  },
  {
   "cell_type": "code",
   "execution_count": 21,
   "metadata": {},
   "outputs": [],
   "source": [
    "dictionary = Dictionary(instances_colloc) #create the term dictionary of the corpus (every unique term is assigned an index)\n",
    "dictionary.filter_extremes(no_below=20, no_above=0.3) #deleting too common and too rare words\n"
   ]
  },
  {
   "cell_type": "code",
   "execution_count": 22,
   "metadata": {},
   "outputs": [],
   "source": [
    "# Transform into TFIDF\n",
    "#replace words by their numerical IDs and their frequency\n",
    "ldacorpus = [dictionary.doc2bow(text) for text in data_pproc] #convert corpus into document term matrix using dictionary instances"
   ]
  },
  {
   "cell_type": "code",
   "execution_count": 23,
   "metadata": {},
   "outputs": [],
   "source": [
    "# learn TFIDF values from corpus\n",
    "tfidfmodel = TfidfModel(ldacorpus)\n",
    "\n",
    "# transform raw frequencies into TFIDF\n",
    "model_corpus = tfidfmodel[ldacorpus]"
   ]
  },
  {
   "cell_type": "code",
   "execution_count": 27,
   "metadata": {},
   "outputs": [
    {
     "name": "stdout",
     "output_type": "stream",
     "text": [
      "5 -1.248412950664231 0.3564770485007165\n",
      "6 -1.2921594693473866 0.3731246013160867\n",
      "7 -1.2680216113412386 0.3558555850548748\n",
      "8 -1.3032323156061936 0.34706121051021743\n",
      "9 -1.279777220704897 0.3454372326577742\n",
      "10 -1.3331582189208329 0.33476124774346305\n",
      "11 -1.2825281856933881 0.3389483975505948\n",
      "12 -1.30891385272543 0.3408801850980728\n",
      "13 -1.3518375103112064 0.3421266475589434\n",
      "14 -1.2992557135206722 0.36449264232675854\n",
      "15 -1.3251906671243716 0.33802889744824777\n"
     ]
    }
   ],
   "source": [
    "# Choosing the number of topic models with Coherence scores\n",
    "coherence_values = []\n",
    "dev_size = 15000\n",
    "\n",
    "for num_topics in range(5, 16):\n",
    "    model = LdaMulticore(corpus=model_corpus[:dev_size], #see above\n",
    "                         id2word=dictionary, \n",
    "                         num_topics=num_topics, random_state=42)\n",
    "\n",
    "    coherencemodel_umass = CoherenceModel(model=model, \n",
    "                                          texts=data_pproc[:dev_size], \n",
    "                                          dictionary=dictionary, \n",
    "                                          coherence='u_mass')\n",
    "\n",
    "    coherencemodel_cv = CoherenceModel(model=model, \n",
    "                                       texts=data_pproc[:dev_size], \n",
    "                                       dictionary=dictionary, \n",
    "                                       coherence='c_v')\n",
    "\n",
    "    umass_score = coherencemodel_umass.get_coherence()\n",
    "    cv_score = coherencemodel_cv.get_coherence()\n",
    "    \n",
    "    print(num_topics, umass_score, cv_score)\n",
    "    coherence_values.append((num_topics, umass_score, cv_score))"
   ]
  },
  {
   "cell_type": "code",
   "execution_count": 29,
   "metadata": {},
   "outputs": [
    {
     "data": {
      "image/png": "[encoded data removed]",
      "text/plain": [
       "<Figure size 1440x720 with 2 Axes>"
      ]
     },
     "metadata": {
      "needs_background": "light"
     },
     "output_type": "display_data"
    }
   ],
   "source": [
    "# Plotting it to choose the best number of topics\n",
    "sns.set_context('poster') \n",
    "\n",
    "scores = pd.DataFrame(coherence_values, columns=['num_topics', 'UMass', 'CV'])\n",
    "fig, ax = plt.pyplot.subplots(nrows=1, ncols=2, figsize=(20, 10))\n",
    "scores.plot.line(x='num_topics', y='UMass', ax=ax[0], xticks=range(5,16));\n",
    "scores.plot.line(x='num_topics', y='CV', ax=ax[1], xticks=range(5,16));\n"
   ]
  },
  {
   "cell_type": "code",
   "execution_count": null,
   "metadata": {},
   "outputs": [],
   "source": [
    "# I am choosing 11 topics as from the UMAss and CV graphs, it is where both graphs are quite high \n",
    "# (whereas before CV values were small).\n",
    "\n",
    "num_topics = 6\n",
    "\n",
    "# Find chunksize to make about 100 updates\n",
    "num_passes = 10\n",
    "chunk_size = len(model_corpus) * num_passes/100\n",
    "print(chunk_size)\n",
    "\n",
    "start = time.time()\n",
    "print(\"fitting model\", flush=True)\n",
    "model = LdaMulticore(num_topics=num_topics, # number of topics\n",
    "                     corpus=model_corpus, # what to train on \n",
    "                     id2word=dictionary, # mapping from IDs to words\n",
    "                     workers=min(10, multiprocessing.cpu_count()-1), \n",
    "                     passes=num_passes, # make this many passes over data\n",
    "                     chunksize=chunk_size, \n",
    "                     alpha=0.5,\n",
    "                     random_state=42)\n",
    "    \n",
    "print(\"done in {}\".format(time.time()-start), flush=True)"
   ]
  },
  {
   "cell_type": "code",
   "execution_count": null,
   "metadata": {},
   "outputs": [],
   "source": []
  },
  {
   "cell_type": "code",
   "execution_count": null,
   "metadata": {},
   "outputs": [],
   "source": []
  },
  {
   "cell_type": "markdown",
   "metadata": {},
   "source": [
    "### Language Models"
   ]
  },
  {
   "cell_type": "code",
   "execution_count": 31,
   "metadata": {},
   "outputs": [],
   "source": [
    "import random\n"
   ]
  },
  {
   "cell_type": "code",
   "execution_count": 32,
   "metadata": {},
   "outputs": [],
   "source": [
    "smoothing = 0.0001\n",
    "START = '_***_'\n",
    "STOP = '_STOP_'\n",
    "n_grams = 5  \n",
    "\n",
    "random.seed(42)"
   ]
  },
  {
   "cell_type": "code",
   "execution_count": null,
   "metadata": {},
   "outputs": [],
   "source": [
    "# FOR USA PLOTS\n",
    "\n",
    "# mapping the probability of a word given its history \n",
    "counts = defaultdict(lambda: defaultdict(lambda: smoothing))\n",
    "\n",
    "# fitting the data on corpus\n",
    "# corpus_lm = [line.strip().split() for line in USA_df['Plot']] \n",
    "# I am not considering the cleaned Plot since I am studying ngrams and creating language models (I need sentence connectors)\n",
    "\n",
    "letters = tuple([random.choice(string.ascii_letters) for i in range(n_grams)])\n",
    "\n",
    "# collect counts for MLE\n",
    "for sentence in corpus_lm:\n",
    "    # include special tokens for start and the end of sentence\n",
    "    tokens = [START for i in range(n_grams-1)] + sentence + [STOP]\n",
    "    for letters in nltk.ngrams(tokens, n_grams):\n",
    "        counts[tuple(letters[:-1])][letters[-1]] += 1\n",
    "        \n",
    "\n",
    "def sample_next_word(cond=tuple()): # to sample the next word from a given sentence\n",
    "    \n",
    "    keys, values = zip(*counts[cond].items()) # separate word and their counts into separate variables\n",
    "\n",
    "    # normalize the counts into a probability distribution\n",
    "    values = np.array(values)\n",
    "    values /= values.sum() # create probability distribution\n",
    "    \n",
    "    sample = np.random.multinomial(1, values) # pick one position\n",
    "\n",
    "    return keys[np.argmax(sample)]\n",
    "\n",
    "\n",
    "def generate(initial=[],n_grams=4):\n",
    "    result = [START for i in range(n_grams-1)] + initial\n",
    "    for i in range((len(initial)+1)):\n",
    "        try:\n",
    "            next_word = sample_next_word(tuple([result[n-i] for n in range((-(n_grams-1)),0)]))\n",
    "        except ValueError:\n",
    "            pass\n",
    "    \n",
    "    result.append(next_word)\n",
    "    \n",
    "    c = n_grams\n",
    "\n",
    "    while next_word != STOP:\n",
    "        c -= 1\n",
    "        if c-1 > 0:\n",
    "            try:\n",
    "                next_word = sample_next_word(tuple([result[n] for n in range((-(n_grams-1)),0)]))\n",
    "            except ValueError:\n",
    "                next_word = sample_next_word(tuple([START for i in range(c-1)])+tuple([result[n] for n in range(-(n_grams-c),0)]))\n",
    "            result.append(next_word)\n",
    "        else:     \n",
    "            next_word = sample_next_word(tuple([result[n] for n in range((-(n_grams-1)),0)]))\n",
    "            result.append(next_word)\n",
    "    return ' '.join(result[n_grams-1:-1])"
   ]
  },
  {
   "cell_type": "code",
   "execution_count": 33,
   "metadata": {},
   "outputs": [
    {
     "ename": "NameError",
     "evalue": "name 'df' is not defined",
     "output_type": "error",
     "traceback": [
      "\u001b[1;31m---------------------------------------------------------------------------\u001b[0m",
      "\u001b[1;31mNameError\u001b[0m                                 Traceback (most recent call last)",
      "\u001b[1;32mc:\\Users\\nakaz\\Desktop\\DSBA\\NLP\\NLP-Assignment\\main.ipynb Cell 78'\u001b[0m in \u001b[0;36m<module>\u001b[1;34m\u001b[0m\n\u001b[1;32m----> <a href='vscode-notebook-cell:/c%3A/Users/nakaz/Desktop/DSBA/NLP/NLP-Assignment/main.ipynb#ch0000080?line=0'>1</a>\u001b[0m df\n",
      "\u001b[1;31mNameError\u001b[0m: name 'df' is not defined"
     ]
    }
   ],
   "source": []
  },
  {
   "cell_type": "code",
   "execution_count": null,
   "metadata": {},
   "outputs": [],
   "source": []
  },
  {
   "cell_type": "code",
   "execution_count": null,
   "metadata": {},
   "outputs": [],
   "source": []
  },
  {
   "cell_type": "code",
   "execution_count": null,
   "metadata": {},
   "outputs": [],
   "source": []
  }
 ],
 "metadata": {
  "interpreter": {
   "hash": "880c942e54072435aac86c2862380a4ee520216cec1d3729ee5bcd3e9696583c"
  },
  "kernelspec": {
   "display_name": "Python 3.9.8 ('nlpenv': venv)",
   "language": "python",
   "name": "python3"
  },
  "language_info": {
   "codemirror_mode": {
    "name": "ipython",
    "version": 3
   },
   "file_extension": ".py",
   "mimetype": "text/x-python",
   "name": "python",
   "nbconvert_exporter": "python",
   "pygments_lexer": "ipython3",
   "version": "3.9.8"
  },
  "orig_nbformat": 4
 },
 "nbformat": 4,
 "nbformat_minor": 2
}
