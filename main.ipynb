{
 "cells": [
  {
   "cell_type": "markdown",
   "metadata": {},
   "source": [
    "## NLP Midterm Assignment"
   ]
  },
  {
   "cell_type": "code",
   "execution_count": 2,
   "metadata": {},
   "outputs": [],
   "source": [
    "import spacy\n",
    "import os\n",
    "from collections import Counter, defaultdict\n",
    "import pandas as pd\n",
    "import matplotlib as plt\n",
    "import seaborn as sns"
   ]
  },
  {
   "cell_type": "markdown",
   "metadata": {},
   "source": [
    "### 1.1 Introduction"
   ]
  },
  {
   "cell_type": "markdown",
   "metadata": {},
   "source": [
    "### 1.2 Data Preprocessing"
   ]
  },
  {
   "cell_type": "code",
   "execution_count": 61,
   "metadata": {},
   "outputs": [],
   "source": [
    "df = pd.read_csv('datasets/guardian_dataset_cleaned.csv', index_col=[0])\n",
    "df = df.dropna()"
   ]
  },
  {
   "cell_type": "code",
   "execution_count": 5,
   "metadata": {},
   "outputs": [
    {
     "data": {
      "text/html": [
       "<div>\n",
       "<style scoped>\n",
       "    .dataframe tbody tr th:only-of-type {\n",
       "        vertical-align: middle;\n",
       "    }\n",
       "\n",
       "    .dataframe tbody tr th {\n",
       "        vertical-align: top;\n",
       "    }\n",
       "\n",
       "    .dataframe thead th {\n",
       "        text-align: right;\n",
       "    }\n",
       "</style>\n",
       "<table border=\"1\" class=\"dataframe\">\n",
       "  <thead>\n",
       "    <tr style=\"text-align: right;\">\n",
       "      <th></th>\n",
       "      <th>headline</th>\n",
       "      <th>body</th>\n",
       "      <th>date</th>\n",
       "    </tr>\n",
       "  </thead>\n",
       "  <tbody>\n",
       "    <tr>\n",
       "      <th>0</th>\n",
       "      <td>The sure way to end the war</td>\n",
       "      <td>Mr Winston Churchill at the London Opera House...</td>\n",
       "      <td>1914-09-12</td>\n",
       "    </tr>\n",
       "    <tr>\n",
       "      <th>1</th>\n",
       "      <td>The Election and After</td>\n",
       "      <td>The election which takes place to-day will dec...</td>\n",
       "      <td>1918-12-14</td>\n",
       "    </tr>\n",
       "    <tr>\n",
       "      <th>2</th>\n",
       "      <td>Italy in Fascist control</td>\n",
       "      <td>At the moment when Mussolini, the leader of th...</td>\n",
       "      <td>1922-10-30</td>\n",
       "    </tr>\n",
       "    <tr>\n",
       "      <th>3</th>\n",
       "      <td>Bavarian monarchist rising broken</td>\n",
       "      <td>The German reactionaries have struck and faile...</td>\n",
       "      <td>1923-11-10</td>\n",
       "    </tr>\n",
       "    <tr>\n",
       "      <th>4</th>\n",
       "      <td>Emergency regulations</td>\n",
       "      <td>The first day of the strike passed off, in a s...</td>\n",
       "      <td>1926-05-06</td>\n",
       "    </tr>\n",
       "  </tbody>\n",
       "</table>\n",
       "</div>"
      ],
      "text/plain": [
       "                            headline  \\\n",
       "0        The sure way to end the war   \n",
       "1             The Election and After   \n",
       "2           Italy in Fascist control   \n",
       "3  Bavarian monarchist rising broken   \n",
       "4              Emergency regulations   \n",
       "\n",
       "                                                body        date  \n",
       "0  Mr Winston Churchill at the London Opera House...  1914-09-12  \n",
       "1  The election which takes place to-day will dec...  1918-12-14  \n",
       "2  At the moment when Mussolini, the leader of th...  1922-10-30  \n",
       "3  The German reactionaries have struck and faile...  1923-11-10  \n",
       "4  The first day of the strike passed off, in a s...  1926-05-06  "
      ]
     },
     "execution_count": 5,
     "metadata": {},
     "output_type": "execute_result"
    }
   ],
   "source": [
    "df.head()"
   ]
  },
  {
   "cell_type": "code",
   "execution_count": 62,
   "metadata": {},
   "outputs": [
    {
     "data": {
      "text/html": [
       "<div>\n",
       "<style scoped>\n",
       "    .dataframe tbody tr th:only-of-type {\n",
       "        vertical-align: middle;\n",
       "    }\n",
       "\n",
       "    .dataframe tbody tr th {\n",
       "        vertical-align: top;\n",
       "    }\n",
       "\n",
       "    .dataframe thead th {\n",
       "        text-align: right;\n",
       "    }\n",
       "</style>\n",
       "<table border=\"1\" class=\"dataframe\">\n",
       "  <thead>\n",
       "    <tr style=\"text-align: right;\">\n",
       "      <th></th>\n",
       "      <th>headline</th>\n",
       "      <th>body</th>\n",
       "      <th>date</th>\n",
       "    </tr>\n",
       "  </thead>\n",
       "  <tbody>\n",
       "    <tr>\n",
       "      <th>count</th>\n",
       "      <td>22657</td>\n",
       "      <td>22657</td>\n",
       "      <td>22657</td>\n",
       "    </tr>\n",
       "    <tr>\n",
       "      <th>unique</th>\n",
       "      <td>21254</td>\n",
       "      <td>22577</td>\n",
       "      <td>6926</td>\n",
       "    </tr>\n",
       "    <tr>\n",
       "      <th>top</th>\n",
       "      <td>Diary</td>\n",
       "      <td>The undeclared race to succeed Paddy Ashdown a...</td>\n",
       "      <td>2005-04-04</td>\n",
       "    </tr>\n",
       "    <tr>\n",
       "      <th>freq</th>\n",
       "      <td>567</td>\n",
       "      <td>3</td>\n",
       "      <td>173</td>\n",
       "    </tr>\n",
       "  </tbody>\n",
       "</table>\n",
       "</div>"
      ],
      "text/plain": [
       "       headline                                               body        date\n",
       "count     22657                                              22657       22657\n",
       "unique    21254                                              22577        6926\n",
       "top       Diary  The undeclared race to succeed Paddy Ashdown a...  2005-04-04\n",
       "freq        567                                                  3         173"
      ]
     },
     "execution_count": 62,
     "metadata": {},
     "output_type": "execute_result"
    }
   ],
   "source": [
    "df.describe()"
   ]
  },
  {
   "cell_type": "code",
   "execution_count": 21,
   "metadata": {},
   "outputs": [],
   "source": [
    "df2 = df.copy()\n",
    "df2['year'] = pd.DatetimeIndex(df2['date']).year"
   ]
  },
  {
   "cell_type": "code",
   "execution_count": 36,
   "metadata": {},
   "outputs": [],
   "source": [
    "df2['decade'] = df2['year'] - df2['year']%10"
   ]
  },
  {
   "cell_type": "code",
   "execution_count": 22,
   "metadata": {},
   "outputs": [
    {
     "data": {
      "text/html": [
       "<div>\n",
       "<style scoped>\n",
       "    .dataframe tbody tr th:only-of-type {\n",
       "        vertical-align: middle;\n",
       "    }\n",
       "\n",
       "    .dataframe tbody tr th {\n",
       "        vertical-align: top;\n",
       "    }\n",
       "\n",
       "    .dataframe thead th {\n",
       "        text-align: right;\n",
       "    }\n",
       "</style>\n",
       "<table border=\"1\" class=\"dataframe\">\n",
       "  <thead>\n",
       "    <tr style=\"text-align: right;\">\n",
       "      <th></th>\n",
       "      <th>headline</th>\n",
       "      <th>body</th>\n",
       "      <th>date</th>\n",
       "    </tr>\n",
       "    <tr>\n",
       "      <th>year</th>\n",
       "      <th></th>\n",
       "      <th></th>\n",
       "      <th></th>\n",
       "    </tr>\n",
       "  </thead>\n",
       "  <tbody>\n",
       "    <tr>\n",
       "      <th>1914</th>\n",
       "      <td>1</td>\n",
       "      <td>1</td>\n",
       "      <td>1</td>\n",
       "    </tr>\n",
       "    <tr>\n",
       "      <th>1918</th>\n",
       "      <td>1</td>\n",
       "      <td>1</td>\n",
       "      <td>1</td>\n",
       "    </tr>\n",
       "    <tr>\n",
       "      <th>1922</th>\n",
       "      <td>1</td>\n",
       "      <td>1</td>\n",
       "      <td>1</td>\n",
       "    </tr>\n",
       "    <tr>\n",
       "      <th>1923</th>\n",
       "      <td>1</td>\n",
       "      <td>1</td>\n",
       "      <td>1</td>\n",
       "    </tr>\n",
       "    <tr>\n",
       "      <th>1926</th>\n",
       "      <td>1</td>\n",
       "      <td>1</td>\n",
       "      <td>1</td>\n",
       "    </tr>\n",
       "    <tr>\n",
       "      <th>...</th>\n",
       "      <td>...</td>\n",
       "      <td>...</td>\n",
       "      <td>...</td>\n",
       "    </tr>\n",
       "    <tr>\n",
       "      <th>2018</th>\n",
       "      <td>645</td>\n",
       "      <td>645</td>\n",
       "      <td>645</td>\n",
       "    </tr>\n",
       "    <tr>\n",
       "      <th>2019</th>\n",
       "      <td>834</td>\n",
       "      <td>834</td>\n",
       "      <td>834</td>\n",
       "    </tr>\n",
       "    <tr>\n",
       "      <th>2020</th>\n",
       "      <td>278</td>\n",
       "      <td>278</td>\n",
       "      <td>278</td>\n",
       "    </tr>\n",
       "    <tr>\n",
       "      <th>2021</th>\n",
       "      <td>522</td>\n",
       "      <td>522</td>\n",
       "      <td>522</td>\n",
       "    </tr>\n",
       "    <tr>\n",
       "      <th>2022</th>\n",
       "      <td>181</td>\n",
       "      <td>181</td>\n",
       "      <td>181</td>\n",
       "    </tr>\n",
       "  </tbody>\n",
       "</table>\n",
       "<p>67 rows × 3 columns</p>\n",
       "</div>"
      ],
      "text/plain": [
       "      headline  body  date\n",
       "year                      \n",
       "1914         1     1     1\n",
       "1918         1     1     1\n",
       "1922         1     1     1\n",
       "1923         1     1     1\n",
       "1926         1     1     1\n",
       "...        ...   ...   ...\n",
       "2018       645   645   645\n",
       "2019       834   834   834\n",
       "2020       278   278   278\n",
       "2021       522   522   522\n",
       "2022       181   181   181\n",
       "\n",
       "[67 rows x 3 columns]"
      ]
     },
     "execution_count": 22,
     "metadata": {},
     "output_type": "execute_result"
    }
   ],
   "source": [
    "df2.groupby(['year']).count()"
   ]
  },
  {
   "cell_type": "code",
   "execution_count": 37,
   "metadata": {},
   "outputs": [
    {
     "data": {
      "text/plain": [
       "<seaborn.axisgrid.FacetGrid at 0x24773f5c700>"
      ]
     },
     "execution_count": 37,
     "metadata": {},
     "output_type": "execute_result"
    },
    {
     "data": {
      "text/plain": [
       "<Figure size 432x288 with 0 Axes>"
      ]
     },
     "metadata": {},
     "output_type": "display_data"
    },
    {
     "data": {
      "image/png": "[encoded data removed]",
      "text/plain": [
       "<Figure size 360x360 with 1 Axes>"
      ]
     },
     "metadata": {
      "needs_background": "light"
     },
     "output_type": "display_data"
    }
   ],
   "source": [
    "plt.pyplot.figure()\n",
    "sns.catplot(x='decade', kind='count', data=df2)"
   ]
  },
  {
   "cell_type": "code",
   "execution_count": 51,
   "metadata": {},
   "outputs": [
    {
     "data": {
      "text/plain": [
       "51"
      ]
     },
     "execution_count": 51,
     "metadata": {},
     "output_type": "execute_result"
    }
   ],
   "source": [
    "df2[df2['year'] < 1990]"
   ]
  },
  {
   "cell_type": "code",
   "execution_count": 15,
   "metadata": {},
   "outputs": [
    {
     "data": {
      "text/plain": [
       "22687"
      ]
     },
     "execution_count": 15,
     "metadata": {},
     "output_type": "execute_result"
    }
   ],
   "source": [
    "len(list(df['headline']))"
   ]
  },
  {
   "cell_type": "code",
   "execution_count": 66,
   "metadata": {},
   "outputs": [],
   "source": [
    "document_headlines = df['headline'].to_list()\n",
    "document_body = df['body'].to_list()"
   ]
  },
  {
   "cell_type": "code",
   "execution_count": 67,
   "metadata": {},
   "outputs": [
    {
     "name": "stdout",
     "output_type": "stream",
     "text": [
      "<class 'pandas.core.frame.DataFrame'>\n",
      "Int64Index: 22657 entries, 0 to 22686\n",
      "Data columns (total 3 columns):\n",
      " #   Column    Non-Null Count  Dtype \n",
      "---  ------    --------------  ----- \n",
      " 0   headline  22657 non-null  object\n",
      " 1   body      22657 non-null  object\n",
      " 2   date      22657 non-null  object\n",
      "dtypes: object(3)\n",
      "memory usage: 708.0+ KB\n"
     ]
    }
   ],
   "source": [
    "df.info()"
   ]
  },
  {
   "cell_type": "code",
   "execution_count": 41,
   "metadata": {},
   "outputs": [],
   "source": [
    "nlp = spacy.load('en_core_web_sm')"
   ]
  },
  {
   "cell_type": "code",
   "execution_count": 70,
   "metadata": {},
   "outputs": [],
   "source": [
    "raw_docs = [[token.text for token in nlp(doc, disable = ['parser', 'ner'])] for doc in document_headlines]"
   ]
  },
  {
   "cell_type": "code",
   "execution_count": 71,
   "metadata": {},
   "outputs": [],
   "source": [
    "docs_body_token = [[token.text for token in nlp(doc, disable = ['parser', 'ner'])] \n",
    "                    for doc in document_body]"
   ]
  },
  {
   "cell_type": "code",
   "execution_count": 75,
   "metadata": {},
   "outputs": [],
   "source": [
    "docs_body_preprocess = [[token.lemma_ for token in nlp(doc, disable = ['parser', 'ner'])\n",
    "                    if token.is_alpha\n",
    "                    and not token.is_stop\n",
    "                    and len(token.text) > 2]\n",
    "                    for doc in document_body]"
   ]
  },
  {
   "cell_type": "code",
   "execution_count": 79,
   "metadata": {},
   "outputs": [],
   "source": [
    "df['body_token'] = docs_body_token\n",
    "df['body_pproc'] = docs_body_preprocess"
   ]
  },
  {
   "cell_type": "code",
   "execution_count": 82,
   "metadata": {},
   "outputs": [],
   "source": [
    "# df.to_csv('guardian_data_pprocessed.csv')"
   ]
  },
  {
   "cell_type": "code",
   "execution_count": null,
   "metadata": {},
   "outputs": [],
   "source": []
  },
  {
   "cell_type": "code",
   "execution_count": 89,
   "metadata": {},
   "outputs": [],
   "source": [
    "token_count_raw = sum([len(doc) for doc in docs_body_token])\n",
    "token_count_preprocessed = sum([len(doc) for doc in docs_body_preprocess])\n",
    "types_count_raw = len(set([w for doc in docs_body_token for w in doc]))\n",
    "types_count_preprocessed = len(set([w for doc in docs_body_preprocess for w in doc]))"
   ]
  },
  {
   "cell_type": "code",
   "execution_count": 92,
   "metadata": {},
   "outputs": [
    {
     "data": {
      "text/html": [
       "<div>\n",
       "<style scoped>\n",
       "    .dataframe tbody tr th:only-of-type {\n",
       "        vertical-align: middle;\n",
       "    }\n",
       "\n",
       "    .dataframe tbody tr th {\n",
       "        vertical-align: top;\n",
       "    }\n",
       "\n",
       "    .dataframe thead th {\n",
       "        text-align: right;\n",
       "    }\n",
       "</style>\n",
       "<table border=\"1\" class=\"dataframe\">\n",
       "  <thead>\n",
       "    <tr style=\"text-align: right;\">\n",
       "      <th></th>\n",
       "      <th>Tokens</th>\n",
       "      <th>Types</th>\n",
       "    </tr>\n",
       "  </thead>\n",
       "  <tbody>\n",
       "    <tr>\n",
       "      <th>Raw</th>\n",
       "      <td>35347120</td>\n",
       "      <td>154064</td>\n",
       "    </tr>\n",
       "    <tr>\n",
       "      <th>Pre-processed</th>\n",
       "      <td>14347614</td>\n",
       "      <td>109985</td>\n",
       "    </tr>\n",
       "  </tbody>\n",
       "</table>\n",
       "</div>"
      ],
      "text/plain": [
       "                 Tokens   Types\n",
       "Raw            35347120  154064\n",
       "Pre-processed  14347614  109985"
      ]
     },
     "execution_count": 92,
     "metadata": {},
     "output_type": "execute_result"
    }
   ],
   "source": [
    "pd.DataFrame([[token_count_raw, types_count_raw], [token_count_preprocessed,types_count_preprocessed]],\n",
    "            columns = ['Tokens', 'Types'], index=['Raw', 'Pre-processed'])"
   ]
  },
  {
   "cell_type": "code",
   "execution_count": 66,
   "metadata": {},
   "outputs": [],
   "source": [
    "df = pd.read_csv('datasets/guardian_data_pprocessed.csv', index_col=[0])"
   ]
  },
  {
   "cell_type": "code",
   "execution_count": 69,
   "metadata": {},
   "outputs": [],
   "source": [
    "df = df.dropna().reset_index(drop=True)"
   ]
  },
  {
   "cell_type": "code",
   "execution_count": 57,
   "metadata": {},
   "outputs": [],
   "source": [
    "data_pproc = df['body_pproc']\n",
    "data_pproc.reset_index(drop = True, inplace=True)\n",
    "\n",
    "data_raw = df['body_token']\n",
    "data_raw.reset_index(drop = True, inplace=True)"
   ]
  },
  {
   "cell_type": "code",
   "execution_count": 58,
   "metadata": {},
   "outputs": [],
   "source": [
    "for i in range(len(data_pproc)):\n",
    "    try:\n",
    "        data_pproc[i] = data_pproc[i][1:-1].replace(\"'\", '').split(', ')\n",
    "    except Exception:\n",
    "        continue"
   ]
  },
  {
   "cell_type": "code",
   "execution_count": 59,
   "metadata": {},
   "outputs": [],
   "source": [
    "for i in range(len(data_raw)):\n",
    "    try:\n",
    "        data_raw[i] = data_raw[i][1:-1].replace(\"'\", '').split(', ')\n",
    "    except Exception:\n",
    "        continue"
   ]
  },
  {
   "cell_type": "code",
   "execution_count": 70,
   "metadata": {},
   "outputs": [],
   "source": [
    "df['data_raw'] = data_raw"
   ]
  },
  {
   "cell_type": "code",
   "execution_count": 83,
   "metadata": {},
   "outputs": [],
   "source": [
    "df['body_token'] = data_raw"
   ]
  },
  {
   "cell_type": "code",
   "execution_count": 84,
   "metadata": {},
   "outputs": [],
   "source": [
    "df['body_pproc'] = data_pproc"
   ]
  },
  {
   "cell_type": "code",
   "execution_count": 89,
   "metadata": {},
   "outputs": [],
   "source": [
    "df = df.iloc[:,:-1]"
   ]
  },
  {
   "cell_type": "code",
   "execution_count": 93,
   "metadata": {},
   "outputs": [],
   "source": [
    "# df.to_pickle('guardian_dataset_pickle.p')"
   ]
  },
  {
   "cell_type": "code",
   "execution_count": 96,
   "metadata": {},
   "outputs": [],
   "source": [
    "df2 = pd.read_pickle('datasets/guardian_dataset_pickle.p')"
   ]
  },
  {
   "cell_type": "markdown",
   "metadata": {},
   "source": [
    "### Word2Vec"
   ]
  },
  {
   "cell_type": "code",
   "execution_count": 11,
   "metadata": {},
   "outputs": [],
   "source": [
    "from gensim.models import Word2Vec, Doc2Vec\n",
    "from gensim.models.word2vec import FAST_VERSION"
   ]
  },
  {
   "cell_type": "code",
   "execution_count": 15,
   "metadata": {},
   "outputs": [],
   "source": [
    "w2v = Word2Vec(vector_size=100, # vector size\n",
    "               window=10, # window for sampling\n",
    "               sample=0.001, # subsampling rate\n",
    "               epochs=200, # iterations\n",
    "               negative=5, # negative samples\n",
    "               min_count=10, # minimum threshold\n",
    "               workers=-1, # parallelize to all cores\n",
    "               hs=0, # no hierarchical softmax\n",
    "               seed=0)"
   ]
  },
  {
   "cell_type": "code",
   "execution_count": 16,
   "metadata": {},
   "outputs": [],
   "source": [
    "corpus = [i for i in df_preprocessed]"
   ]
  },
  {
   "cell_type": "code",
   "execution_count": 20,
   "metadata": {},
   "outputs": [
    {
     "data": {
      "text/plain": [
       "22657"
      ]
     },
     "execution_count": 20,
     "metadata": {},
     "output_type": "execute_result"
    }
   ],
   "source": [
    "len(corpus)"
   ]
  },
  {
   "cell_type": "code",
   "execution_count": 22,
   "metadata": {},
   "outputs": [
    {
     "data": {
      "text/plain": [
       "\"['Winston', 'Churchill', 'London', 'Opera', 'House', 'tonight', 'sound', 'stir', 'people', 'country', 'army', 'shield', 'successful', 'navy', 'enable', 'end', 'war', 'way', 'hope', 'intend', 'shall', 'end', 'packed', 'enthusiastic', 'gathering', 'address', 'bring', 'invitation', 'National', 'Liberal', 'Club', 'Constitutional', 'Club', 'act', 'audience', 'speaker', 'representative', 'party', 'creed', 'class', 'hour', 'speaking', 'begin', 'seat', 'theatre', 'fill', 'thousand', 'people', 'unable', 'door', 'direct', 'overflow', 'meeting', 'Kingsway', 'Hall', 'Marquis', 'Lincolnshire', 'preside', 'say', 'great', 'crisis', 'political', 'sword', 'return', 'scabbard', 'invitation', 'lead', 'political', 'club', 'Metropolis', 'inhabitant', 'Greater', 'London', 'representative', 'class', 'express', 'admiration', 'gallant', 'troop', 'brave', 'ally', 'pledge', 'reinforce', 'Cheers', 'Winston', 'Churchill', 'receive', 'loud', 'cheer', 'move', 'meeting', 'citizen', 'London', 'profoundly', 'believe', 'fight', 'cause', 'vindication', 'right', 'small', 'state', 'public', 'law', 'Europe', 'pledge', 'unswervingly', 'support', 'Prime', 'Minister', 'appeal', 'nation', 'measure', 'necessary', 'prosecution', 'war', 'victorious', 'conclusion', 'last', 'peace', 'Europe', 'assure', 'Cheers', 'Churchill', 'say', 'gentleman', 'time', 'meet', 'abode', 'diversion', 'pleasure', 'time', 'peace', 'wish', 'mean', 'erouse', 'encourage', 'way', 'purpose', 'merriment', 'jollification', 'sure', 'associate', 'friend', 'tonight', 'noble', 'friend', 'chairman', 'regard', 'cheer', 'receive', 'offer', 'mean', 'soldier', 'field', 'sailor', 'sea', 'sense', 'accept', 'thank']\""
      ]
     },
     "execution_count": 22,
     "metadata": {},
     "output_type": "execute_result"
    }
   ],
   "source": [
    "df_preprocessed[0]"
   ]
  },
  {
   "cell_type": "code",
   "execution_count": null,
   "metadata": {},
   "outputs": [],
   "source": []
  }
 ],
 "metadata": {
  "interpreter": {
   "hash": "880c942e54072435aac86c2862380a4ee520216cec1d3729ee5bcd3e9696583c"
  },
  "kernelspec": {
   "display_name": "Python 3.9.8 ('nlpenv': venv)",
   "language": "python",
   "name": "python3"
  },
  "language_info": {
   "codemirror_mode": {
    "name": "ipython",
    "version": 3
   },
   "file_extension": ".py",
   "mimetype": "text/x-python",
   "name": "python",
   "nbconvert_exporter": "python",
   "pygments_lexer": "ipython3",
   "version": "3.9.8"
  },
  "orig_nbformat": 4
 },
 "nbformat": 4,
 "nbformat_minor": 2
}
