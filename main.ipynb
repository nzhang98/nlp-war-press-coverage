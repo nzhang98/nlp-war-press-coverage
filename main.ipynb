{
 "cells": [
  {
   "cell_type": "markdown",
   "metadata": {},
   "source": [
    "## NLP Midterm Assignment"
   ]
  },
  {
   "cell_type": "code",
   "execution_count": 230,
   "metadata": {},
   "outputs": [],
   "source": [
    "import spacy\n",
    "import os\n",
    "import pandas as pd\n",
    "import numpy as np\n",
    "import matplotlib as plt\n",
    "import seaborn as sns\n",
    "import re\n",
    "import random\n",
    "import nltk\n",
    "from collections import Counter, defaultdict\n",
    "\n",
    "from nltk.collocations import BigramCollocationFinder, BigramAssocMeasures\n",
    "\n",
    "from gensim.models import Word2Vec, Doc2Vec\n",
    "from gensim.models.word2vec import FAST_VERSION\n",
    "from gensim.models.ldamodel import LdaModel\n",
    "\n",
    "from sklearn.feature_extraction.text import TfidfVectorizer, CountVectorizer\n",
    "from gensim.models import LdaMulticore, TfidfModel, CoherenceModel"
   ]
  },
  {
   "cell_type": "markdown",
   "metadata": {},
   "source": [
    "### 1.1 Introduction"
   ]
  },
  {
   "cell_type": "markdown",
   "metadata": {},
   "source": [
    "The dataset used for this assignment consists of 22657 articles from **The Guardian**, a British daily newspaper. The articles were obtained freely through their open API https://open-platform.theguardian.com/; and comprise all the articles in the "
   ]
  },
  {
   "cell_type": "markdown",
   "metadata": {},
   "source": [
    "### 1.2 Data Preprocessing"
   ]
  },
  {
   "cell_type": "code",
   "execution_count": 104,
   "metadata": {},
   "outputs": [],
   "source": [
    "df = pd.read_csv('datasets/guardian_dataset_cleaned.csv', index_col = [0])\\\n",
    "    .dropna().reset_index(drop=True)"
   ]
  },
  {
   "cell_type": "code",
   "execution_count": 111,
   "metadata": {},
   "outputs": [
    {
     "data": {
      "text/html": [
       "<div>\n",
       "<style scoped>\n",
       "    .dataframe tbody tr th:only-of-type {\n",
       "        vertical-align: middle;\n",
       "    }\n",
       "\n",
       "    .dataframe tbody tr th {\n",
       "        vertical-align: top;\n",
       "    }\n",
       "\n",
       "    .dataframe thead th {\n",
       "        text-align: right;\n",
       "    }\n",
       "</style>\n",
       "<table border=\"1\" class=\"dataframe\">\n",
       "  <thead>\n",
       "    <tr style=\"text-align: right;\">\n",
       "      <th></th>\n",
       "      <th>headline</th>\n",
       "      <th>body</th>\n",
       "      <th>date</th>\n",
       "    </tr>\n",
       "  </thead>\n",
       "  <tbody>\n",
       "    <tr>\n",
       "      <th>0</th>\n",
       "      <td>The sure way to end the war</td>\n",
       "      <td>Mr Winston Churchill at the London Opera House...</td>\n",
       "      <td>1914-09-12</td>\n",
       "    </tr>\n",
       "    <tr>\n",
       "      <th>1</th>\n",
       "      <td>The Election and After</td>\n",
       "      <td>The election which takes place to-day will dec...</td>\n",
       "      <td>1918-12-14</td>\n",
       "    </tr>\n",
       "    <tr>\n",
       "      <th>2</th>\n",
       "      <td>Italy in Fascist control</td>\n",
       "      <td>At the moment when Mussolini, the leader of th...</td>\n",
       "      <td>1922-10-30</td>\n",
       "    </tr>\n",
       "    <tr>\n",
       "      <th>3</th>\n",
       "      <td>Bavarian monarchist rising broken</td>\n",
       "      <td>The German reactionaries have struck and faile...</td>\n",
       "      <td>1923-11-10</td>\n",
       "    </tr>\n",
       "    <tr>\n",
       "      <th>4</th>\n",
       "      <td>Emergency regulations</td>\n",
       "      <td>The first day of the strike passed off, in a s...</td>\n",
       "      <td>1926-05-06</td>\n",
       "    </tr>\n",
       "  </tbody>\n",
       "</table>\n",
       "</div>"
      ],
      "text/plain": [
       "                            headline  \\\n",
       "0        The sure way to end the war   \n",
       "1             The Election and After   \n",
       "2           Italy in Fascist control   \n",
       "3  Bavarian monarchist rising broken   \n",
       "4              Emergency regulations   \n",
       "\n",
       "                                                body        date  \n",
       "0  Mr Winston Churchill at the London Opera House...  1914-09-12  \n",
       "1  The election which takes place to-day will dec...  1918-12-14  \n",
       "2  At the moment when Mussolini, the leader of th...  1922-10-30  \n",
       "3  The German reactionaries have struck and faile...  1923-11-10  \n",
       "4  The first day of the strike passed off, in a s...  1926-05-06  "
      ]
     },
     "execution_count": 111,
     "metadata": {},
     "output_type": "execute_result"
    }
   ],
   "source": [
    "df.head()"
   ]
  },
  {
   "cell_type": "code",
   "execution_count": 112,
   "metadata": {},
   "outputs": [
    {
     "data": {
      "text/html": [
       "<div>\n",
       "<style scoped>\n",
       "    .dataframe tbody tr th:only-of-type {\n",
       "        vertical-align: middle;\n",
       "    }\n",
       "\n",
       "    .dataframe tbody tr th {\n",
       "        vertical-align: top;\n",
       "    }\n",
       "\n",
       "    .dataframe thead th {\n",
       "        text-align: right;\n",
       "    }\n",
       "</style>\n",
       "<table border=\"1\" class=\"dataframe\">\n",
       "  <thead>\n",
       "    <tr style=\"text-align: right;\">\n",
       "      <th></th>\n",
       "      <th>headline</th>\n",
       "      <th>body</th>\n",
       "      <th>date</th>\n",
       "      <th>year</th>\n",
       "    </tr>\n",
       "    <tr>\n",
       "      <th>decade</th>\n",
       "      <th></th>\n",
       "      <th></th>\n",
       "      <th></th>\n",
       "      <th></th>\n",
       "    </tr>\n",
       "  </thead>\n",
       "  <tbody>\n",
       "    <tr>\n",
       "      <th>1910</th>\n",
       "      <td>2</td>\n",
       "      <td>2</td>\n",
       "      <td>2</td>\n",
       "      <td>2</td>\n",
       "    </tr>\n",
       "    <tr>\n",
       "      <th>1920</th>\n",
       "      <td>4</td>\n",
       "      <td>4</td>\n",
       "      <td>4</td>\n",
       "      <td>4</td>\n",
       "    </tr>\n",
       "    <tr>\n",
       "      <th>1930</th>\n",
       "      <td>4</td>\n",
       "      <td>4</td>\n",
       "      <td>4</td>\n",
       "      <td>4</td>\n",
       "    </tr>\n",
       "    <tr>\n",
       "      <th>1940</th>\n",
       "      <td>4</td>\n",
       "      <td>4</td>\n",
       "      <td>4</td>\n",
       "      <td>4</td>\n",
       "    </tr>\n",
       "    <tr>\n",
       "      <th>1950</th>\n",
       "      <td>4</td>\n",
       "      <td>4</td>\n",
       "      <td>4</td>\n",
       "      <td>4</td>\n",
       "    </tr>\n",
       "    <tr>\n",
       "      <th>1960</th>\n",
       "      <td>2</td>\n",
       "      <td>2</td>\n",
       "      <td>2</td>\n",
       "      <td>2</td>\n",
       "    </tr>\n",
       "    <tr>\n",
       "      <th>1970</th>\n",
       "      <td>12</td>\n",
       "      <td>12</td>\n",
       "      <td>12</td>\n",
       "      <td>12</td>\n",
       "    </tr>\n",
       "    <tr>\n",
       "      <th>1980</th>\n",
       "      <td>19</td>\n",
       "      <td>19</td>\n",
       "      <td>19</td>\n",
       "      <td>19</td>\n",
       "    </tr>\n",
       "    <tr>\n",
       "      <th>1990</th>\n",
       "      <td>646</td>\n",
       "      <td>646</td>\n",
       "      <td>646</td>\n",
       "      <td>646</td>\n",
       "    </tr>\n",
       "    <tr>\n",
       "      <th>2000</th>\n",
       "      <td>13620</td>\n",
       "      <td>13620</td>\n",
       "      <td>13620</td>\n",
       "      <td>13620</td>\n",
       "    </tr>\n",
       "    <tr>\n",
       "      <th>2010</th>\n",
       "      <td>7359</td>\n",
       "      <td>7359</td>\n",
       "      <td>7359</td>\n",
       "      <td>7359</td>\n",
       "    </tr>\n",
       "    <tr>\n",
       "      <th>2020</th>\n",
       "      <td>981</td>\n",
       "      <td>981</td>\n",
       "      <td>981</td>\n",
       "      <td>981</td>\n",
       "    </tr>\n",
       "  </tbody>\n",
       "</table>\n",
       "</div>"
      ],
      "text/plain": [
       "        headline   body   date   year\n",
       "decade                               \n",
       "1910           2      2      2      2\n",
       "1920           4      4      4      4\n",
       "1930           4      4      4      4\n",
       "1940           4      4      4      4\n",
       "1950           4      4      4      4\n",
       "1960           2      2      2      2\n",
       "1970          12     12     12     12\n",
       "1980          19     19     19     19\n",
       "1990         646    646    646    646\n",
       "2000       13620  13620  13620  13620\n",
       "2010        7359   7359   7359   7359\n",
       "2020         981    981    981    981"
      ]
     },
     "execution_count": 112,
     "metadata": {},
     "output_type": "execute_result"
    }
   ],
   "source": [
    "df2 = df.copy()\n",
    "df2['year'] = pd.DatetimeIndex(df2['date']).year\n",
    "df2['decade'] = df2['year'] - df2['year']%10\n",
    "df2.groupby(['decade']).count()"
   ]
  },
  {
   "cell_type": "code",
   "execution_count": 37,
   "metadata": {},
   "outputs": [
    {
     "data": {
      "text/plain": [
       "<seaborn.axisgrid.FacetGrid at 0x24773f5c700>"
      ]
     },
     "execution_count": 37,
     "metadata": {},
     "output_type": "execute_result"
    },
    {
     "data": {
      "text/plain": [
       "<Figure size 432x288 with 0 Axes>"
      ]
     },
     "metadata": {},
     "output_type": "display_data"
    },
    {
     "data": {
      "image/png": "[encoded data removed]",
      "text/plain": [
       "<Figure size 360x360 with 1 Axes>"
      ]
     },
     "metadata": {
      "needs_background": "light"
     },
     "output_type": "display_data"
    }
   ],
   "source": [
    "plt.pyplot.figure()\n",
    "sns.catplot(x='decade', kind='count', data=df2)"
   ]
  },
  {
   "cell_type": "code",
   "execution_count": 115,
   "metadata": {},
   "outputs": [],
   "source": [
    "df = df[df2['year'] > 1970]\n",
    "df.reset_index(drop=True, inplace=True)"
   ]
  },
  {
   "cell_type": "code",
   "execution_count": 120,
   "metadata": {},
   "outputs": [],
   "source": [
    "df['body'] = df['body'].apply(lambda x: x.replace('&amp', '&'))"
   ]
  },
  {
   "cell_type": "code",
   "execution_count": 123,
   "metadata": {},
   "outputs": [],
   "source": [
    "nlp = spacy.load('en_core_web_sm')\n",
    "\n",
    "document_body = df['body'].to_list()\n",
    "\n",
    "docs_body_token = [[token.text for token in nlp(doc, disable = ['parser', 'ner'])] \n",
    "                    for doc in document_body]\n",
    "\n",
    "docs_body_preprocess = [[token.lemma_ for token in nlp(doc, disable = ['parser', 'ner'])\n",
    "                    if token.is_alpha\n",
    "                    and not token.is_stop\n",
    "                    and (token.pos_ in {'NOUN', 'ADJ', 'ADV', 'VERB', 'PROPN'})\n",
    "                    and ((len(token.text) > 2) or (token.text in ['UK', 'US', 'UN']))\n",
    "                    ]\n",
    "                    for doc in document_body]"
   ]
  },
  {
   "cell_type": "code",
   "execution_count": 124,
   "metadata": {},
   "outputs": [
    {
     "data": {
      "text/plain": [
       "22636"
      ]
     },
     "execution_count": 124,
     "metadata": {},
     "output_type": "execute_result"
    }
   ],
   "source": [
    "len(document_body)"
   ]
  },
  {
   "cell_type": "code",
   "execution_count": null,
   "metadata": {},
   "outputs": [],
   "source": [
    "df['body_token'] = docs_body_token\n",
    "df['body_pproc'] = docs_body_preprocess"
   ]
  },
  {
   "cell_type": "code",
   "execution_count": 237,
   "metadata": {},
   "outputs": [],
   "source": [
    "# df.to_pickle('datasets/guardian_dataset_pickle.p')\n",
    "df = pd.read_pickle('datasets/guardian_dataset_pickle.p')"
   ]
  },
  {
   "cell_type": "code",
   "execution_count": 140,
   "metadata": {},
   "outputs": [
    {
     "data": {
      "text/html": [
       "<div>\n",
       "<style scoped>\n",
       "    .dataframe tbody tr th:only-of-type {\n",
       "        vertical-align: middle;\n",
       "    }\n",
       "\n",
       "    .dataframe tbody tr th {\n",
       "        vertical-align: top;\n",
       "    }\n",
       "\n",
       "    .dataframe thead th {\n",
       "        text-align: right;\n",
       "    }\n",
       "</style>\n",
       "<table border=\"1\" class=\"dataframe\">\n",
       "  <thead>\n",
       "    <tr style=\"text-align: right;\">\n",
       "      <th></th>\n",
       "      <th>Tokens</th>\n",
       "      <th>Types</th>\n",
       "    </tr>\n",
       "  </thead>\n",
       "  <tbody>\n",
       "    <tr>\n",
       "      <th>Raw</th>\n",
       "      <td>35329967</td>\n",
       "      <td>153986</td>\n",
       "    </tr>\n",
       "    <tr>\n",
       "      <th>Pre-processed</th>\n",
       "      <td>14504824</td>\n",
       "      <td>110415</td>\n",
       "    </tr>\n",
       "  </tbody>\n",
       "</table>\n",
       "</div>"
      ],
      "text/plain": [
       "                 Tokens   Types\n",
       "Raw            35329967  153986\n",
       "Pre-processed  14504824  110415"
      ]
     },
     "execution_count": 140,
     "metadata": {},
     "output_type": "execute_result"
    }
   ],
   "source": [
    "token_count_raw = sum([len(doc) for doc in docs_body_token])\n",
    "token_count_preprocessed = sum([len(doc) for doc in docs_body_preprocess])\n",
    "types_count_raw = len(set([w for doc in docs_body_token for w in doc]))\n",
    "types_count_preprocessed = len(set([w for doc in docs_body_preprocess for w in doc]))\n",
    "pd.DataFrame([[token_count_raw, types_count_raw], [token_count_preprocessed,types_count_preprocessed]],\n",
    "            columns = ['Tokens', 'Types'], index=['Raw', 'Pre-processed'])"
   ]
  },
  {
   "cell_type": "code",
   "execution_count": null,
   "metadata": {},
   "outputs": [],
   "source": [
    "unique_words = {}\n",
    "for i in range(len(df)):\n",
    "    for j in df.loc[i, 'body_pproc']:\n",
    "        if len(j) < 3:\n",
    "            if j in unique_words.keys():\n",
    "                unique_words[j] += 1\n",
    "            else:\n",
    "                unique_words[j] = 1\n",
    "unique_words"
   ]
  },
  {
   "cell_type": "code",
   "execution_count": null,
   "metadata": {},
   "outputs": [],
   "source": [
    "# Find the most common collocations in the whole set of tweets\n",
    "\n",
    "BigColl = BigramCollocationFinder.from_words(\" \".join(list(df['normalized'])).split())\n",
    "bgm = BigramAssocMeasures()\n",
    "score = bgm.mi_like\n",
    "collocations = {'_'.join(bigram): pmi for bigram, pmi in BigColl.score_ngrams(score)}\n",
    "top100_collocations = np.array(Counter(collocations).most_common(100))\n",
    "\n",
    "top100_collocations[:10,0]"
   ]
  },
  {
   "cell_type": "code",
   "execution_count": 231,
   "metadata": {},
   "outputs": [],
   "source": [
    "finder = BigramCollocationFinder.from_words([word for doc in df['body_pproc'] for word in doc])\n",
    "bgm = BigramAssocMeasures()\n",
    "score = bgm.mi_like\n",
    "collocations = {'_'.join(bigram): pmi for bigram, pmi in finder.score_ngrams(score)}\n",
    "top_20 = Counter(collocations).most_common(20)\n",
    "top_100 = pd.DataFrame(Counter(collocations).most_common(100))\n",
    "top_200 = pd.DataFrame(Counter(collocations).most_common(200))"
   ]
  },
  {
   "cell_type": "code",
   "execution_count": null,
   "metadata": {},
   "outputs": [],
   "source": [
    "#TODO Grafico con gli split"
   ]
  },
  {
   "cell_type": "code",
   "execution_count": null,
   "metadata": {},
   "outputs": [],
   "source": [
    "top_200_list = list(top_200[0])"
   ]
  },
  {
   "cell_type": "code",
   "execution_count": 285,
   "metadata": {},
   "outputs": [],
   "source": [
    "bigramCollocation = BigramCollocationFinder.from_words(df['body_pproc'][0])\n",
    "\n",
    "scores = bigramCollocation.score_ngrams(BigramAssocMeasures().mi_like)"
   ]
  },
  {
   "cell_type": "code",
   "execution_count": 288,
   "metadata": {},
   "outputs": [
    {
     "name": "stdout",
     "output_type": "stream",
     "text": [
      "(('great', 'majority'), 2.0)\n",
      "(('widen', 'argument'), 2.0)\n"
     ]
    }
   ],
   "source": [
    "for i in scores[:2]:\n",
    "    print(i)"
   ]
  },
  {
   "cell_type": "code",
   "execution_count": null,
   "metadata": {},
   "outputs": [],
   "source": []
  },
  {
   "cell_type": "code",
   "execution_count": 289,
   "metadata": {},
   "outputs": [],
   "source": [
    "def switch_bigram(text_list):\n",
    "    assert isinstance(text_list, list)\n",
    "    bigramCollocation = BigramCollocationFinder.from_words(text_list)\n",
    "\n",
    "    scores = bigramCollocation.score_ngrams(BigramAssocMeasures().mi_like)\n",
    "    \n",
    "    \n",
    "    if scores:\n",
    "        for bigram in scores:\n",
    "            bigram_joined = '_'.join(bigram[0])\n",
    "            if bigram_joined in top_200_list:\n",
    "                to_pop = []\n",
    "                for i in range(len(text_list)-1):\n",
    "                    if (text_list[i] == bigram[0][0]) & (text_list[i+1] == bigram[0][1]):\n",
    "                        text_list[i] = bigram_joined\n",
    "                        to_pop.append(i+1)\n",
    "\n",
    "                if to_pop:\n",
    "                    for idx in sorted(to_pop, reverse=True):\n",
    "                        text_list.pop(idx)\n",
    "    \n",
    "    return text_list"
   ]
  },
  {
   "cell_type": "code",
   "execution_count": 284,
   "metadata": {},
   "outputs": [
    {
     "name": "stderr",
     "output_type": "stream",
     "text": [
      "C:\\Users\\nakaz\\AppData\\Local\\Temp\\ipykernel_528\\1570633164.py:9: VisibleDeprecationWarning: Creating an ndarray from ragged nested sequences (which is a list-or-tuple of lists-or-tuples-or ndarrays with different lengths or shapes) is deprecated. If you meant to do this, you must specify 'dtype=object' when creating the ndarray.\n",
      "  for bigram in np.array(scores)[:,0]:\n"
     ]
    },
    {
     "data": {
      "text/plain": [
       "0        [Prime_Minister, night, send, Conservative, Pa...\n",
       "1        [election, conduct, vision, future, selection,...\n",
       "2        [bomb, explode, House_Commons, yesterday, inju...\n",
       "3        [Conservative, Party, yesterday, shut, eye, pi...\n",
       "4        [Conservative, Party, yesterday, shut, eye, pi...\n",
       "                               ...                        \n",
       "22631    [UK, long, proud, tradition, welcome, refugee,...\n",
       "22632    [Rishi_Sunak, cut, fuel, duty, litre, raise, t...\n",
       "22633    [Boris_Johnson, say, Vladimir_Putin, cross, re...\n",
       "22634    [Rishi_Sunak, spring, statement, push, people,...\n",
       "22635    [interesting, evidence, Ferries, committee, he...\n",
       "Name: body_pproc, Length: 22636, dtype: object"
      ]
     },
     "execution_count": 284,
     "metadata": {},
     "output_type": "execute_result"
    }
   ],
   "source": [
    "df['body_pproc'].apply(switch_bigram)"
   ]
  },
  {
   "cell_type": "markdown",
   "metadata": {},
   "source": [
    "### Word2Vec"
   ]
  },
  {
   "cell_type": "code",
   "execution_count": 168,
   "metadata": {},
   "outputs": [],
   "source": [
    "data_pproc = df['body_pproc']"
   ]
  },
  {
   "cell_type": "code",
   "execution_count": 178,
   "metadata": {},
   "outputs": [
    {
     "data": {
      "text/plain": [
       "(0, 0)"
      ]
     },
     "execution_count": 178,
     "metadata": {},
     "output_type": "execute_result"
    }
   ],
   "source": [
    "w2v = Word2Vec(vector_size=300, # vector size\n",
    "               window=20, # window for sampling\n",
    "               sample=0.001, # subsampling rate\n",
    "               epochs=200, # iterations\n",
    "               negative=5, # negative samples\n",
    "               min_count=10, # minimum threshold\n",
    "               workers=-1, # parallelize to all cores\n",
    "               hs=0, # no hierarchical softmax\n",
    "               seed=0)\n",
    "w2v.build_vocab(data_pproc)\n",
    "w2v.train(data_pproc, total_examples=w2v.corpus_count, epochs=w2v.epochs)"
   ]
  },
  {
   "cell_type": "code",
   "execution_count": 179,
   "metadata": {},
   "outputs": [
    {
     "data": {
      "text/plain": [
       "[('Tarek', 0.23736698925495148),\n",
       " ('BTL', 0.22542329132556915),\n",
       " ('beguile', 0.22530324757099152),\n",
       " ('typo', 0.2161588966846466),\n",
       " ('cylinder', 0.21528084576129913),\n",
       " ('collision', 0.21513517200946808),\n",
       " ('macro', 0.20803022384643555),\n",
       " ('LCC', 0.2032911777496338),\n",
       " ('Noon', 0.20178720355033875),\n",
       " ('bleaker', 0.20055517554283142)]"
      ]
     },
     "execution_count": 179,
     "metadata": {},
     "output_type": "execute_result"
    }
   ],
   "source": [
    "w2v.wv.most_similar(['Iraq'])"
   ]
  },
  {
   "cell_type": "code",
   "execution_count": 180,
   "metadata": {},
   "outputs": [
    {
     "data": {
      "text/plain": [
       "[('sphinx', 0.24006931483745575),\n",
       " ('terraced', 0.2083025425672531),\n",
       " ('clarification', 0.20374339818954468),\n",
       " ('decile', 0.20315268635749817),\n",
       " ('Touche', 0.2025095820426941),\n",
       " ('Nasser', 0.20123055577278137),\n",
       " ('secede', 0.19921177625656128),\n",
       " ('imam', 0.1950664222240448),\n",
       " ('abolish', 0.19363124668598175),\n",
       " ('Banner', 0.1936013400554657)]"
      ]
     },
     "execution_count": 180,
     "metadata": {},
     "output_type": "execute_result"
    }
   ],
   "source": [
    "w2v.wv.most_similar(['Iran'])"
   ]
  },
  {
   "cell_type": "code",
   "execution_count": 184,
   "metadata": {},
   "outputs": [
    {
     "data": {
      "text/plain": [
       "[('operable', 0.24649867415428162),\n",
       " ('repository', 0.21115615963935852),\n",
       " ('synonymous', 0.20128367841243744),\n",
       " ('stabiliser', 0.1989935040473938),\n",
       " ('wishlist', 0.19581428170204163),\n",
       " ('require', 0.19579245150089264),\n",
       " ('erupt', 0.1950790286064148),\n",
       " ('Pat', 0.19448204338550568),\n",
       " ('compensation', 0.1938692182302475),\n",
       " ('outsmart', 0.19372093677520752)]"
      ]
     },
     "execution_count": 184,
     "metadata": {},
     "output_type": "execute_result"
    }
   ],
   "source": [
    "w2v.wv.most_similar(['boris'])"
   ]
  },
  {
   "cell_type": "markdown",
   "metadata": {},
   "source": [
    "### Doc2Vec"
   ]
  },
  {
   "cell_type": "code",
   "execution_count": 185,
   "metadata": {},
   "outputs": [
    {
     "data": {
      "text/plain": [
       "2      None\n",
       "10     None\n",
       "11     None\n",
       "12     None\n",
       "13     None\n",
       "       ... \n",
       "660    None\n",
       "664    None\n",
       "666    None\n",
       "668    None\n",
       "670    None\n",
       "Name: tags, Length: 225, dtype: object"
      ]
     },
     "execution_count": 185,
     "metadata": {},
     "output_type": "execute_result"
    }
   ],
   "source": [
    "df['tags'] = np.empty((len(df), 0)).tolist()\n",
    "df[(df['date'] >= '2022') & (df['body'].str.contains('Ukraine'))]['tags']\\\n",
    "    .apply(lambda x: x.append('Ukraine'))\n",
    "\n",
    "df[(df['date'] <= '2009' ) & (df['date'] >= '2003') & (df['body'].str.contains('Iraq'))]['tags']\\\n",
    "    .apply(lambda x: x.append('Iraq'))\n",
    "\n",
    "df[(df['date'] <= '2022' ) & (df['date'] >= '2001') & (df['body'].str.contains('Afghanistan'))]['tags']\\\n",
    "    .apply(lambda x: x.append('Afghanistan'))\n",
    "\n",
    "df[(df['date'] <= '2013' ) & (df['date'] >= '2011') & (df['body'].str.contains('Libya'))]['tags']\\\n",
    "    .apply(lambda x: x.append('Libya'))\n",
    "\n",
    "df[(df['date'] >= '2014') & (df['body'].str.contains('ISIS|ISIL|Boko Haram|Syria'))]['tags']\\\n",
    "    .apply(lambda x: x.append('ISIS'))\n",
    "\n",
    "df[(df['date'] >= '1967') & (df['date'] <= '2000') & (df['body'].str.contains('(?i)irish|IRA|Ireland'))]['tags']\\\n",
    "    .apply(lambda x: x.append('N.Ireland'))"
   ]
  },
  {
   "cell_type": "code",
   "execution_count": 186,
   "metadata": {},
   "outputs": [],
   "source": [
    "data_tagged = df[df['tags'].apply(len) > 0]"
   ]
  },
  {
   "cell_type": "code",
   "execution_count": 187,
   "metadata": {},
   "outputs": [],
   "source": [
    "from gensim.models.doc2vec import TaggedDocument\n",
    "\n",
    "corpus = []\n",
    "for tags, text in zip(data_tagged['tags'], data_tagged['body_pproc']):\n",
    "    corpus.append(TaggedDocument(words = text, tags=tags))"
   ]
  },
  {
   "cell_type": "code",
   "execution_count": 195,
   "metadata": {},
   "outputs": [],
   "source": [
    "d2v_model = Doc2Vec(vector_size=300, \n",
    "                    window=50,\n",
    "                    hs=0,\n",
    "                    sample=0.000001,\n",
    "                    negative=5,\n",
    "                    min_count=100,\n",
    "                    workers=-1,\n",
    "                    epochs=500,\n",
    "                    dm=0, \n",
    "                    dbow_words=1)\n",
    "\n",
    "# build the vocabulary\n",
    "d2v_model.build_vocab(corpus)\n",
    "\n",
    "# train the model\n",
    "d2v_model.train(corpus, total_examples=d2v_model.corpus_count, epochs=d2v_model.epochs)"
   ]
  },
  {
   "cell_type": "code",
   "execution_count": 189,
   "metadata": {},
   "outputs": [
    {
     "name": "stdout",
     "output_type": "stream",
     "text": [
      "[('Ukraine', 0.02098369598388672), ('Libya', 0.01790858432650566), ('N.Ireland', -9.824011067394167e-05), ('Afghanistan', -0.05219166353344917), ('ISIS', -0.058308977633714676)]\n"
     ]
    }
   ],
   "source": [
    "similar_docs = d2v_model.dv.most_similar('Iraq')\n",
    "print(similar_docs)"
   ]
  },
  {
   "cell_type": "code",
   "execution_count": 196,
   "metadata": {},
   "outputs": [
    {
     "name": "stdout",
     "output_type": "stream",
     "text": [
      "[('ISIS', 0.1144581213593483), ('Ukraine', 0.09188487380743027), ('Afghanistan', 0.00795620959252119), ('Libya', -0.013821019791066647), ('N.Ireland', -0.05905534699559212)]\n"
     ]
    }
   ],
   "source": [
    "similar_docs = d2v_model.dv.most_similar('Iraq')\n",
    "print(similar_docs)"
   ]
  },
  {
   "cell_type": "code",
   "execution_count": 197,
   "metadata": {},
   "outputs": [
    {
     "name": "stdout",
     "output_type": "stream",
     "text": [
      "[('ISIS', 0.011868518777191639), ('Ukraine', 0.011127536185085773), ('Libya', 0.00611869664862752), ('Afghanistan', -0.04445153474807739), ('Iraq', -0.05905533581972122)]\n"
     ]
    }
   ],
   "source": [
    "similar_docs = d2v_model.dv.most_similar('N.Ireland')\n",
    "print(similar_docs)"
   ]
  },
  {
   "cell_type": "markdown",
   "metadata": {},
   "source": [
    "### TF-IDF"
   ]
  },
  {
   "cell_type": "code",
   "execution_count": 198,
   "metadata": {},
   "outputs": [],
   "source": [
    "docs_lemm = [' '.join(doc) for doc in data_pproc]"
   ]
  },
  {
   "cell_type": "code",
   "execution_count": 201,
   "metadata": {},
   "outputs": [],
   "source": [
    "tfidf_vectorizer = TfidfVectorizer(analyzer='word', \n",
    "                                   ngram_range=(1,2),\n",
    "                                   stop_words='english',\n",
    "                                   min_df=0.001, \n",
    "                                   max_df=0.7, \n",
    "                                   sublinear_tf=True)\n",
    "\n",
    "X = tfidf_vectorizer.fit_transform(docs_lemm)"
   ]
  },
  {
   "cell_type": "code",
   "execution_count": 202,
   "metadata": {},
   "outputs": [],
   "source": [
    "count_vectorizer = CountVectorizer(analyzer='word', \n",
    "                                   ngram_range=(1,2),\n",
    "                                   stop_words='english',\n",
    "                                   min_df=0.001, \n",
    "                                   max_df=0.7)\n",
    "\n",
    "X_count = count_vectorizer.fit_transform(docs_lemm)"
   ]
  },
  {
   "cell_type": "code",
   "execution_count": 206,
   "metadata": {},
   "outputs": [
    {
     "data": {
      "text/html": [
       "<div>\n",
       "<style scoped>\n",
       "    .dataframe tbody tr th:only-of-type {\n",
       "        vertical-align: middle;\n",
       "    }\n",
       "\n",
       "    .dataframe tbody tr th {\n",
       "        vertical-align: top;\n",
       "    }\n",
       "\n",
       "    .dataframe thead th {\n",
       "        text-align: right;\n",
       "    }\n",
       "</style>\n",
       "<table border=\"1\" class=\"dataframe\">\n",
       "  <thead>\n",
       "    <tr style=\"text-align: right;\">\n",
       "      <th></th>\n",
       "      <th>word</th>\n",
       "      <th>TF</th>\n",
       "      <th>IDF</th>\n",
       "      <th>TFIDF</th>\n",
       "    </tr>\n",
       "  </thead>\n",
       "  <tbody>\n",
       "    <tr>\n",
       "      <th>0</th>\n",
       "      <td>labour</td>\n",
       "      <td>112824</td>\n",
       "      <td>1.448269</td>\n",
       "      <td>418.430676</td>\n",
       "    </tr>\n",
       "    <tr>\n",
       "      <th>1</th>\n",
       "      <td>party</td>\n",
       "      <td>88458</td>\n",
       "      <td>1.479458</td>\n",
       "      <td>391.956773</td>\n",
       "    </tr>\n",
       "    <tr>\n",
       "      <th>2</th>\n",
       "      <td>minister</td>\n",
       "      <td>71831</td>\n",
       "      <td>1.391406</td>\n",
       "      <td>375.207568</td>\n",
       "    </tr>\n",
       "    <tr>\n",
       "      <th>3</th>\n",
       "      <td>mr</td>\n",
       "      <td>47831</td>\n",
       "      <td>1.996726</td>\n",
       "      <td>367.885279</td>\n",
       "    </tr>\n",
       "    <tr>\n",
       "      <th>4</th>\n",
       "      <td>blair</td>\n",
       "      <td>48959</td>\n",
       "      <td>1.785211</td>\n",
       "      <td>355.085750</td>\n",
       "    </tr>\n",
       "    <tr>\n",
       "      <th>5</th>\n",
       "      <td>people</td>\n",
       "      <td>80547</td>\n",
       "      <td>1.417218</td>\n",
       "      <td>347.739578</td>\n",
       "    </tr>\n",
       "    <tr>\n",
       "      <th>6</th>\n",
       "      <td>time</td>\n",
       "      <td>50828</td>\n",
       "      <td>1.375782</td>\n",
       "      <td>320.068608</td>\n",
       "    </tr>\n",
       "    <tr>\n",
       "      <th>7</th>\n",
       "      <td>new</td>\n",
       "      <td>50850</td>\n",
       "      <td>1.458557</td>\n",
       "      <td>316.992258</td>\n",
       "    </tr>\n",
       "    <tr>\n",
       "      <th>8</th>\n",
       "      <td>prime</td>\n",
       "      <td>38520</td>\n",
       "      <td>1.675848</td>\n",
       "      <td>291.446894</td>\n",
       "    </tr>\n",
       "    <tr>\n",
       "      <th>9</th>\n",
       "      <td>mp</td>\n",
       "      <td>47440</td>\n",
       "      <td>1.766973</td>\n",
       "      <td>291.338154</td>\n",
       "    </tr>\n",
       "    <tr>\n",
       "      <th>10</th>\n",
       "      <td>iraq</td>\n",
       "      <td>26906</td>\n",
       "      <td>1.979990</td>\n",
       "      <td>291.325050</td>\n",
       "    </tr>\n",
       "    <tr>\n",
       "      <th>11</th>\n",
       "      <td>prime minister</td>\n",
       "      <td>37337</td>\n",
       "      <td>1.700908</td>\n",
       "      <td>287.552252</td>\n",
       "    </tr>\n",
       "    <tr>\n",
       "      <th>12</th>\n",
       "      <td>election</td>\n",
       "      <td>42317</td>\n",
       "      <td>1.773558</td>\n",
       "      <td>285.309659</td>\n",
       "    </tr>\n",
       "    <tr>\n",
       "      <th>13</th>\n",
       "      <td>leader</td>\n",
       "      <td>39997</td>\n",
       "      <td>1.638269</td>\n",
       "      <td>283.787308</td>\n",
       "    </tr>\n",
       "    <tr>\n",
       "      <th>14</th>\n",
       "      <td>vote</td>\n",
       "      <td>51084</td>\n",
       "      <td>1.909994</td>\n",
       "      <td>281.644931</td>\n",
       "    </tr>\n",
       "    <tr>\n",
       "      <th>15</th>\n",
       "      <td>britain</td>\n",
       "      <td>38870</td>\n",
       "      <td>1.677413</td>\n",
       "      <td>280.020595</td>\n",
       "    </tr>\n",
       "    <tr>\n",
       "      <th>16</th>\n",
       "      <td>come</td>\n",
       "      <td>39708</td>\n",
       "      <td>1.490507</td>\n",
       "      <td>278.965043</td>\n",
       "    </tr>\n",
       "    <tr>\n",
       "      <th>17</th>\n",
       "      <td>think</td>\n",
       "      <td>46770</td>\n",
       "      <td>1.651571</td>\n",
       "      <td>277.401740</td>\n",
       "    </tr>\n",
       "    <tr>\n",
       "      <th>18</th>\n",
       "      <td>british</td>\n",
       "      <td>33726</td>\n",
       "      <td>1.687113</td>\n",
       "      <td>276.447878</td>\n",
       "    </tr>\n",
       "    <tr>\n",
       "      <th>19</th>\n",
       "      <td>tell</td>\n",
       "      <td>37095</td>\n",
       "      <td>1.598026</td>\n",
       "      <td>271.762674</td>\n",
       "    </tr>\n",
       "  </tbody>\n",
       "</table>\n",
       "</div>"
      ],
      "text/plain": [
       "              word      TF       IDF       TFIDF\n",
       "0           labour  112824  1.448269  418.430676\n",
       "1            party   88458  1.479458  391.956773\n",
       "2         minister   71831  1.391406  375.207568\n",
       "3               mr   47831  1.996726  367.885279\n",
       "4            blair   48959  1.785211  355.085750\n",
       "5           people   80547  1.417218  347.739578\n",
       "6             time   50828  1.375782  320.068608\n",
       "7              new   50850  1.458557  316.992258\n",
       "8            prime   38520  1.675848  291.446894\n",
       "9               mp   47440  1.766973  291.338154\n",
       "10            iraq   26906  1.979990  291.325050\n",
       "11  prime minister   37337  1.700908  287.552252\n",
       "12        election   42317  1.773558  285.309659\n",
       "13          leader   39997  1.638269  283.787308\n",
       "14            vote   51084  1.909994  281.644931\n",
       "15         britain   38870  1.677413  280.020595\n",
       "16            come   39708  1.490507  278.965043\n",
       "17           think   46770  1.651571  277.401740\n",
       "18         british   33726  1.687113  276.447878\n",
       "19            tell   37095  1.598026  271.762674"
      ]
     },
     "execution_count": 206,
     "metadata": {},
     "output_type": "execute_result"
    }
   ],
   "source": [
    "df_tfidf = pd.DataFrame({'word': count_vectorizer.get_feature_names_out(), \n",
    "                   'tf': X_count.sum(axis=0).A1, \n",
    "                   'idf': tfidf_vectorizer.idf_,\n",
    "                   'tfidf': X.sum(axis=0).A1})\\\n",
    "                .sort_values(['tfidf', 'tf', 'idf'], ascending=False).reset_index(drop=True)\\\n",
    "                .rename({'tf':'TF', 'idf':'IDF', 'tfidf':'TF-IDF'}, axis=1)\n",
    "\n",
    "df_tfidf.iloc[:20]"
   ]
  },
  {
   "cell_type": "code",
   "execution_count": null,
   "metadata": {},
   "outputs": [],
   "source": [
    "# Do for each war"
   ]
  },
  {
   "cell_type": "markdown",
   "metadata": {},
   "source": [
    "### Topic Models"
   ]
  },
  {
   "cell_type": "code",
   "execution_count": 207,
   "metadata": {},
   "outputs": [],
   "source": [
    "from gensim.models import LdaMulticore, TfidfModel, CoherenceModel\n",
    "from gensim.corpora import Dictionary\n",
    "from gensim.models.phrases import Phrases\n",
    "\n",
    "import time # to know how long training took\n",
    "import multiprocessing # to speed things up by parallelizing"
   ]
  },
  {
   "cell_type": "code",
   "execution_count": 208,
   "metadata": {},
   "outputs": [],
   "source": [
    "# Getting rid of too rare words and too frequent words (finding topic words per plot)\n",
    "# instances = data_clean['Plot_cleaned'].apply(str.split).tolist()  \n",
    "phrases = Phrases(data_pproc, min_count=5, threshold=1)\n",
    "instances_colloc = phrases[data_pproc]\n",
    "\n",
    "dictionary = Dictionary(instances_colloc) #create the term dictionary of the corpus (every unique term is assigned an index)\n",
    "dictionary.filter_extremes(no_below=20, no_above=0.3) #deleting too common and too rare words\n",
    "\n",
    "# Transform into TFIDF\n",
    "#replace words by their numerical IDs and their frequency\n",
    "ldacorpus = [dictionary.doc2bow(text) for text in data_pproc] #convert corpus into document term matrix using dictionary instances\n",
    "\n",
    "# learn TFIDF values from corpus\n",
    "tfidfmodel = TfidfModel(ldacorpus)\n",
    "\n",
    "# transform raw frequencies into TFIDF\n",
    "model_corpus = tfidfmodel[ldacorpus]"
   ]
  },
  {
   "cell_type": "code",
   "execution_count": 209,
   "metadata": {},
   "outputs": [
    {
     "name": "stdout",
     "output_type": "stream",
     "text": [
      "5 -1.4975237850779064 0.4037797616029133\n",
      "6 -1.442605569605912 0.39035101133438355\n",
      "7 -1.3761927673224794 0.40610973680129453\n",
      "8 -1.4297215552593308 0.38310071270078083\n",
      "9 -1.440175377784607 0.38868556037668295\n",
      "10 -1.445613376717008 0.39412937951968163\n",
      "11 -1.4456985927582993 0.3771728929383368\n",
      "12 -1.4438757391018573 0.38097255603249014\n",
      "13 -1.5338169114924924 0.35882943923262905\n",
      "14 -1.4818876770427443 0.3826284936541024\n",
      "15 -1.4589430073394505 0.3742217615298271\n"
     ]
    }
   ],
   "source": [
    "# Choosing the number of topic models with Coherence scores\n",
    "coherence_values = []\n",
    "dev_size = 5000\n",
    "\n",
    "for num_topics in range(5, 16):\n",
    "    model = LdaMulticore(corpus=model_corpus[:dev_size], #see above\n",
    "                         id2word=dictionary, \n",
    "                         num_topics=num_topics, random_state=42)\n",
    "\n",
    "    coherencemodel_umass = CoherenceModel(model=model, \n",
    "                                          texts=data_pproc[:dev_size], \n",
    "                                          dictionary=dictionary, \n",
    "                                          coherence='u_mass')\n",
    "\n",
    "    coherencemodel_cv = CoherenceModel(model=model, \n",
    "                                       texts=data_pproc[:dev_size], \n",
    "                                       dictionary=dictionary, \n",
    "                                       coherence='c_v')\n",
    "\n",
    "    umass_score = coherencemodel_umass.get_coherence()\n",
    "    cv_score = coherencemodel_cv.get_coherence()\n",
    "    \n",
    "    print(num_topics, umass_score, cv_score)\n",
    "    coherence_values.append((num_topics, umass_score, cv_score))"
   ]
  },
  {
   "cell_type": "code",
   "execution_count": 29,
   "metadata": {},
   "outputs": [
    {
     "data": {
      "image/png": "[encoded data removed]",
      "text/plain": [
       "<Figure size 1440x720 with 2 Axes>"
      ]
     },
     "metadata": {
      "needs_background": "light"
     },
     "output_type": "display_data"
    }
   ],
   "source": [
    "# Plotting it to choose the best number of topics\n",
    "sns.set_context('poster') \n",
    "\n",
    "scores = pd.DataFrame(coherence_values, columns=['num_topics', 'UMass', 'CV'])\n",
    "fig, ax = plt.pyplot.subplots(nrows=1, ncols=2, figsize=(20, 10))\n",
    "scores.plot.line(x='num_topics', y='UMass', ax=ax[0], xticks=range(5,16))\n",
    "scores.plot.line(x='num_topics', y='CV', ax=ax[1], xticks=range(5,16))"
   ]
  },
  {
   "cell_type": "code",
   "execution_count": 210,
   "metadata": {},
   "outputs": [
    {
     "data": {
      "text/plain": [
       "<AxesSubplot:xlabel='num_topics'>"
      ]
     },
     "execution_count": 210,
     "metadata": {},
     "output_type": "execute_result"
    },
    {
     "data": {
      "image/png": "[encoded data removed]",
      "text/plain": [
       "<Figure size 1440x720 with 2 Axes>"
      ]
     },
     "metadata": {
      "needs_background": "light"
     },
     "output_type": "display_data"
    }
   ],
   "source": [
    "# Plotting it to choose the best number of topics\n",
    "sns.set_context('poster') \n",
    "\n",
    "scores = pd.DataFrame(coherence_values, columns=['num_topics', 'UMass', 'CV'])\n",
    "fig, ax = plt.pyplot.subplots(nrows=1, ncols=2, figsize=(20, 10))\n",
    "scores.plot.line(x='num_topics', y='UMass', ax=ax[0], xticks=range(5,16))\n",
    "scores.plot.line(x='num_topics', y='CV', ax=ax[1], xticks=range(5,16))"
   ]
  },
  {
   "cell_type": "code",
   "execution_count": 211,
   "metadata": {},
   "outputs": [
    {
     "name": "stdout",
     "output_type": "stream",
     "text": [
      "2263.6\n",
      "fitting model\n",
      "done in 361.5087125301361\n"
     ]
    }
   ],
   "source": [
    "# I am choosing 11 topics as from the UMAss and CV graphs, it is where both graphs are quite high \n",
    "# (whereas before CV values were small).\n",
    "\n",
    "num_topics = 10\n",
    "\n",
    "# Find chunksize to make about 100 updates\n",
    "num_passes = 10\n",
    "chunk_size = len(model_corpus) * num_passes/100\n",
    "print(chunk_size)\n",
    "\n",
    "start = time.time()\n",
    "print(\"fitting model\", flush=True)\n",
    "model = LdaMulticore(num_topics=num_topics, # number of topics\n",
    "                     corpus=model_corpus, # what to train on \n",
    "                     id2word=dictionary, # mapping from IDs to words\n",
    "                     workers=min(10, multiprocessing.cpu_count()-1), \n",
    "                     passes=num_passes, # make this many passes over data\n",
    "                     chunksize=chunk_size, \n",
    "                     alpha=0.5,\n",
    "                     random_state=42)\n",
    "    \n",
    "print(\"done in {}\".format(time.time()-start), flush=True)"
   ]
  },
  {
   "cell_type": "code",
   "execution_count": 214,
   "metadata": {},
   "outputs": [
    {
     "name": "stdout",
     "output_type": "stream",
     "text": [
      "[(0, '0.011*\"prime\" + 0.011*\"Cameron\" + 0.010*\"Corbyn\" + 0.009*\"secretary\" + 0.009*\"vote\"'), (1, '0.030*\"Ireland\" + 0.022*\"Northern\" + 0.021*\"Brexit\" + 0.019*\"Scotland\" + 0.015*\"SNP\"'), (2, '0.016*\"vote\" + 0.009*\"Corbyn\" + 0.007*\"Johnson\" + 0.006*\"campaign\" + 0.006*\"win\"'), (3, '0.022*\"Johnson\" + 0.012*\"EU\" + 0.012*\"Boris\" + 0.006*\"prime\" + 0.005*\"morning\"'), (4, '0.011*\"Iraq\" + 0.010*\"military\" + 0.009*\"Syria\" + 0.008*\"UK\" + 0.008*\"defence\"'), (5, '0.018*\"EU\" + 0.013*\"UK\" + 0.007*\"Brexit\" + 0.007*\"british\" + 0.007*\"world\"'), (6, '0.010*\"Brown\" + 0.009*\"Miliband\" + 0.007*\"Blair\" + 0.005*\"Thatcher\" + 0.005*\"political\"'), (7, '0.012*\"UK\" + 0.009*\"secretary\" + 0.007*\"Johnson\" + 0.006*\"Commons\" + 0.006*\"committee\"'), (8, '0.008*\"tax\" + 0.007*\"UK\" + 0.007*\"plan\" + 0.007*\"cut\" + 0.006*\"NHS\"'), (9, '0.019*\"police\" + 0.007*\"crime\" + 0.006*\"officer\" + 0.005*\"woman\" + 0.005*\"home\"')]\n"
     ]
    }
   ],
   "source": [
    "# LDA\n",
    "lda_model_1 = LdaModel(ldacorpus, num_topics=num_topics, id2word = dictionary)\n",
    "\n",
    "print(lda_model_1.print_topics(num_topics=num_topics, num_words=5))"
   ]
  },
  {
   "cell_type": "code",
   "execution_count": 215,
   "metadata": {},
   "outputs": [
    {
     "data": {
      "text/plain": [
       "[(0,\n",
       "  '0.004*\"Iraq\" + 0.004*\"Mr\" + 0.003*\"UN\" + 0.003*\"weapon\" + 0.003*\"Saddam\" + 0.003*\"military\" + 0.002*\"Bush\" + 0.002*\"intelligence\" + 0.002*\"Blair\" + 0.002*\"iraqi\"'),\n",
       " (1,\n",
       "  '0.002*\"Mr\" + 0.002*\"Blair\" + 0.002*\"Brown\" + 0.001*\"Cameron\" + 0.001*\"vote\" + 0.001*\"Lib\" + 0.001*\"tax\" + 0.001*\"Corbyn\" + 0.001*\"EU\" + 0.001*\"Tories\"'),\n",
       " (2,\n",
       "  '0.002*\"Mr\" + 0.001*\"Werritty\" + 0.001*\"Cameron\" + 0.001*\"Blair\" + 0.001*\"EU\" + 0.001*\"UK\" + 0.001*\"Iraq\" + 0.001*\"Brexit\" + 0.001*\"Corbyn\" + 0.001*\"Aitken\"'),\n",
       " (3,\n",
       "  '0.002*\"Mr\" + 0.001*\"Brown\" + 0.001*\"Blair\" + 0.001*\"EU\" + 0.001*\"UK\" + 0.001*\"vote\" + 0.001*\"Corbyn\" + 0.001*\"Cameron\" + 0.001*\"Iraq\" + 0.001*\"Europe\"'),\n",
       " (4,\n",
       "  '0.004*\"drug\" + 0.001*\"crime\" + 0.001*\"cannabis\" + 0.001*\"Brown\" + 0.001*\"Mr\" + 0.001*\"Iraq\" + 0.001*\"law\" + 0.001*\"criminal\" + 0.001*\"Blair\" + 0.001*\"police\"'),\n",
       " (5,\n",
       "  '0.002*\"Mr\" + 0.001*\"Blair\" + 0.001*\"Iraq\" + 0.001*\"Cameron\" + 0.001*\"EU\" + 0.001*\"Corbyn\" + 0.001*\"Brexit\" + 0.001*\"prime\" + 0.001*\"mp\" + 0.001*\"Johnson\"'),\n",
       " (6,\n",
       "  '0.002*\"Mr\" + 0.002*\"EU\" + 0.001*\"Brown\" + 0.001*\"Blair\" + 0.001*\"mp\" + 0.001*\"prime\" + 0.001*\"UK\" + 0.001*\"vote\" + 0.001*\"Cameron\" + 0.001*\"Brexit\"'),\n",
       " (7,\n",
       "  '0.008*\"Brexit\" + 0.005*\"Johnson\" + 0.005*\"EU\" + 0.003*\"Corbyn\" + 0.003*\"vote\" + 0.003*\"UK\" + 0.003*\"deal\" + 0.002*\"Boris\" + 0.002*\"parliament\" + 0.002*\"referendum\"'),\n",
       " (8,\n",
       "  '0.002*\"Mr\" + 0.001*\"Blair\" + 0.001*\"Corbyn\" + 0.001*\"Iraq\" + 0.001*\"Brown\" + 0.001*\"Commons\" + 0.001*\"bill\" + 0.001*\"Tory\" + 0.001*\"Cameron\" + 0.001*\"secretary\"'),\n",
       " (9,\n",
       "  '0.002*\"Mr\" + 0.001*\"Blair\" + 0.001*\"vote\" + 0.001*\"mp\" + 0.001*\"deal\" + 0.001*\"Cameron\" + 0.001*\"EU\" + 0.001*\"Brexit\" + 0.001*\"secretary\" + 0.001*\"Iraq\"')]"
      ]
     },
     "execution_count": 215,
     "metadata": {},
     "output_type": "execute_result"
    }
   ],
   "source": [
    "topic_corpus = model[model_corpus]\n",
    "model.print_topics()"
   ]
  },
  {
   "cell_type": "code",
   "execution_count": 218,
   "metadata": {},
   "outputs": [
    {
     "name": "stdout",
     "output_type": "stream",
     "text": [
      "1 \"Iraq\", \"Mr\", \"UN\", \"weapon\", \"Saddam\"\n",
      "2 \"Mr\", \"Blair\", \"Brown\", \"Cameron\", \"vote\"\n",
      "3 \"Mr\", \"Werritty\", \"Cameron\", \"Blair\", \"EU\"\n",
      "4 \"Mr\", \"Brown\", \"Blair\", \"EU\", \"UK\"\n",
      "5 \"drug\", \"crime\", \"cannabis\", \"Brown\", \"Mr\"\n",
      "6 \"Mr\", \"Blair\", \"Iraq\", \"Cameron\", \"EU\"\n",
      "7 \"Mr\", \"EU\", \"Brown\", \"Blair\", \"mp\"\n",
      "8 \"Brexit\", \"Johnson\", \"EU\", \"Corbyn\", \"vote\"\n",
      "9 \"Mr\", \"Blair\", \"Corbyn\", \"Iraq\", \"Brown\"\n",
      "10 \"Mr\", \"Blair\", \"vote\", \"mp\", \"deal\"\n"
     ]
    }
   ],
   "source": [
    "# Get the topic descriptions and getting rid of useless formatting\n",
    "topic_sep = re.compile(\"0\\.[0-9]{3}\\*\") \n",
    "# Extract a list of tuples with topic number and descriptors from the model\n",
    "model_topics = [(topic_no, re.sub(topic_sep, '', model_topic).split(' + ')) \n",
    "                for topic_no, model_topic in\n",
    "                model.print_topics(num_topics=num_topics, num_words=5)]\n",
    "\n",
    "descriptors = []\n",
    "for i, m in model_topics:\n",
    "    print(i+1, \", \".join(m[:5]))\n",
    "    descriptors.append(\", \".join(m[:2]).replace('\"', ''))"
   ]
  },
  {
   "cell_type": "markdown",
   "metadata": {},
   "source": [
    "### Language Models"
   ]
  },
  {
   "cell_type": "code",
   "execution_count": 33,
   "metadata": {},
   "outputs": [],
   "source": []
  },
  {
   "cell_type": "code",
   "execution_count": 34,
   "metadata": {},
   "outputs": [
    {
     "data": {
      "text/plain": [
       "<function nltk.util.ngrams(sequence, n, **kwargs)>"
      ]
     },
     "execution_count": 34,
     "metadata": {},
     "output_type": "execute_result"
    }
   ],
   "source": [
    "nltk.ngrams"
   ]
  },
  {
   "cell_type": "code",
   "execution_count": 32,
   "metadata": {},
   "outputs": [],
   "source": [
    "smoothing = 0.0001\n",
    "START = '_***_'\n",
    "STOP = '_STOP_'\n",
    "n_grams = 5  \n",
    "\n",
    "random.seed(42)"
   ]
  },
  {
   "cell_type": "code",
   "execution_count": 15,
   "metadata": {},
   "outputs": [],
   "source": [
    "df_Ukraine = df[df['tags'].apply(lambda x: 'Ukraine' in x)]\n",
    "df_Iraq = df[df['tags'].apply(lambda x: 'Iraq' in x)]\n",
    "df_Afghanistan = df[df['tags'].apply(lambda x: 'Afghanistan' in x)]\n",
    "df_Ireland = df[df['tags'].apply(lambda x: 'N.Ireland' in x)]\n",
    "df_ISIS = df[df['tags'].apply(lambda x: 'ISIS' in x)]\n"
   ]
  },
  {
   "cell_type": "code",
   "execution_count": 35,
   "metadata": {},
   "outputs": [],
   "source": [
    "class LanguageModel:\n",
    "    \n",
    "    def __init__(self, ngram=5, smoothing=0.001):\n",
    "        self.ngram = ngram\n",
    "        self.smoothing = smoothing\n",
    "        self.counts = defaultdict(lambda: defaultdict(lambda: smoothing))\n",
    "        self.START = '_***_'\n",
    "        self.STOP = '_STOP_'\n",
    "    \n",
    "    def fit(self, corpus):\n",
    "        for sentence in corpus:\n",
    "            # include special tokens for start and the end of sentence\n",
    "            tokens = [self.START for i in range(self.ngram - 1)] + sentence + [self.STOP]\n",
    "            for words in nltk.ngrams(tokens, self.ngram):\n",
    "                k = words[:-1]\n",
    "                v = words[-1]\n",
    "                self.counts[k][v] += 1\n",
    "    \n",
    "    def generate(self, words=[]):\n",
    "        if words:\n",
    "            words = words.split()\n",
    "        result = [self.START for i in range(self.ngram - 1)] + words\n",
    "        # sample the first word\n",
    "        previous_words = tuple(result[-(self.ngram - 1):])\n",
    "        next_word = self.sample_next_word(previous_words)\n",
    "        result.append(next_word)\n",
    "        while next_word != self.STOP:\n",
    "            previous_words = tuple(result[-(self.ngram - 1):])\n",
    "            next_word = self.sample_next_word(previous_words)\n",
    "            result.append(next_word)\n",
    "        \n",
    "        return ' '.join(result[(self.ngram - 1):-1])\n",
    "    \n",
    "    def sample_next_word(self, previous_words):\n",
    "        # if previous words were not observed before, a random tuple of words is drawn\n",
    "        if list(self.counts[previous_words].values()) == []:\n",
    "            previous_words = random.choice(list(self.counts.keys()))\n",
    "        # separate word and their counts into separate variables\n",
    "        keys, values = zip(*self.counts[previous_words].items())\n",
    "        # normalize the counts into a probability distribution\n",
    "        values = np.array(values)\n",
    "        values /= values.sum() # create probability distro\n",
    "        # this is the meat of the function\n",
    "        sample = np.random.multinomial(1, values) # pick one position\n",
    "    \n",
    "        return keys[np.argmax(sample)]"
   ]
  },
  {
   "cell_type": "code",
   "execution_count": 38,
   "metadata": {},
   "outputs": [],
   "source": [
    "corpus_lm = [doc.strip(' •').split() for doc in df_Ukraine['body']]"
   ]
  },
  {
   "cell_type": "code",
   "execution_count": 65,
   "metadata": {},
   "outputs": [],
   "source": [
    "corpus_lm = [doc.strip(' •').split() for doc in df_Ukraine['body']]\n",
    "lm = LanguageModel(3)\n",
    "lm.fit(corpus_lm)"
   ]
  },
  {
   "cell_type": "code",
   "execution_count": 66,
   "metadata": {},
   "outputs": [
    {
     "data": {
      "text/plain": [
       "'Here’s a roundup of the first minister to be revealed. Michael Fabricant, who represents Richard Ratcliffe, Nazanin’s husband, is one of our generation”. He added: “Now you would end either in retreat by the relaxation of even more enraged by Johnson’s behaviour has remained cautious. If that pattern is repeated the point of view, having Boris Johnson presented it not as powerful as Javelin anti-tank missiles are working through some patching and other nations can fall victim to attempts of violent aggression and in the murder of Sarah Everard by a Tory, Julian Lewis, the Northern Ireland of the country. The Speaker, Sir Linsday Hoyle, says that is primarily a commercial decision. There will be excluded from this and was monitoring its member base to ensure there are very volatile, and have integrity,” a senior position from 1975 to 1977, a period of falling infection levels rise for businesses too, because employees’ and employers’ national insurance and income - measures that by the US. This is not fit and proper. This would be better for your society, especially after the planned 30-day “wind-down period” for companies to evade some obligations under the Ukraine and elsewhere for much of the world – cannot allow that freedom just to be reunited with our families. To begin with Morad, but also I think the knighthood, received for services to broader parts of eastern Europe were controlled by Russia. They should certainly not travel to Ukraine and Russia – that’s obviously not something that still have high rates of inflation – is also vicious, so she may think she is not recognised in our armed forces effectively turn off the gas”. Wallace said he was dissatisfied at Patel trying to impose a no-fly zone, she says Gove is wearing a a navy dress and coat, with a daughter living in the UK government to take us back to parliament, a new MP, seems to me it consists of scrapping the measure completely as planned. He says: The UK has a marked change, obviously, in four votes on the Russian invasion of Ukraine. And I mean by security is …” Oh, come on, everyone, get real. Johnson merely added that Estonia had given him a cake. And that meant we didn’t spot that before the next weeks, months, maybe even years. Ian Blackford has done nothing for those making impossible choices. He failed. Here is a distinct break with the US and EU. Alexei Miller is CEO of the EBU as the Sun reports, yesterday Johnson defended his decision to raise funds in the Home Office reacted to the UK today. The Department of the public, Boris Johnson is pushing for a vote on the Stop the War rally this evening. Following the news that Russian airlines have been in touch the sides”. Rishi Sunak will say he believed Patel would be an emotional reunion with their courage and their families. Preferably somewhere many thousands of pounds of taxpayers’ money in London. Then, the foreign secretary, in the next election. Dowden announced that the government would “also rebuild our own welfare standards. Pressed as to why the advice from the north of the Russian state. Roman Borisovich, an anti-corruption watchdog, believes that every time you change prime minister may try to do anyway? Which was as pathetic as it is so reluctant to admit that the prime minister: Like thousands of Russian troops from the £12bn a year levy in bills over the Conservatives, their highest for all of this, the chancellor went to bed. And Gabriella slept in between Richard and their family links to the invasion began. He says new variants of concern hasn’t changed since 2018. The Office for National Statistics (ONS) said the changes on average, while women will lose. Today the IFS said freezing the income distribution will be the subject matter. Politicians study VI (voter intention) polling closely (how would you define Starmerism? The 59-year-old has a long and detailed explanation of how Londoners (and anyone else) can donate to support Ukraine’s nuclear aims – Russia has unleashed this conflict felt a real challenge to the latest events in Westminster. In a readout from cabinet, he said: No, because you are hearing about people who leave isolation safely. After reviewing all of the parliament is to cut its links with Russian jets.” Heappey went on: Now, of course, has longstanding institutional racism issues, and countless cultural sores of its neighbour with elements of the reasons for these graduates will be welcomed by many, given transparency campaigners have accused ministers of Lithuania, Latvia and Estonia have joined the board of Sheremetyevo, the biggest increases in their hour of need. I would defend the Donbas” in the Caribbean who’s about to rise around another 40% in value, and the European mainland to express his outrage at the Polish border, the home office said its rejection is based on politicians’ lies. Jim Waight Hertford, Hertfordshire • Have an opinion piece from Duncan Campbell, the Guardian’s diplomatic editor In her Commons statement now. Karl Turner (Lab) says Courts is responding to the Commons foreign affairs committee about why they are evaluated and properly declared.'"
      ]
     },
     "execution_count": 66,
     "metadata": {},
     "output_type": "execute_result"
    }
   ],
   "source": [
    "lm.generate()"
   ]
  },
  {
   "cell_type": "code",
   "execution_count": 76,
   "metadata": {},
   "outputs": [],
   "source": [
    "corpus_lm = [doc.strip(' •').split() for doc in df_Iraq['body']]\n",
    "lm = LanguageModel(5)\n",
    "lm.fit(corpus_lm)"
   ]
  },
  {
   "cell_type": "code",
   "execution_count": 80,
   "metadata": {},
   "outputs": [
    {
     "data": {
      "text/plain": [
       "'The war in Iraq 58 Being in office while the gap between rich and poor countries, the doctrine of pre-emptive war,\" he declares, and reveals that the PM he told him that in 1997 war with Iraq \"was not on his agenda\". \"It wasn\\'t on President Bush\\'s agenda two days before September 11,\" he adds, something seemingly told to him by the Foreign Affairs Select Committee and the Intelligence Services. Observer: What do you think of the US military\\'s methods of softening up the enemy, you have to admire the fact that it is now very very difficult.\" The remarks were made at a Fabian conference last weekend, at which the housing minister, Yvette Cooper, seen as close to Mr Brown, also suggested the emphasis after the invasion had been justified. Significantly, John Major called for a full explanation. Mr Soames was opening debate on the armed forces (pensions and compensation) bill updating service pension and compensation arrangements, cleared its last hurdle and went for royal assent after peers backed down in a row with British participation in the invasion of Iraq and we still don\\'t know why that happened,\" said Gran. \"Only one man can save Tony Blair, and that\\'s Alan B\\'Stard.\" Marks, still a card-carrying member of the \"axis of evil\" made little sense in its grouping of three very different societies, and even less in its aftermath. No group of people can have been subjected to a \"searching inquiry\" by Lord Franks. But the terms of that resolution, the context of that resolution, and the way that it has. Had the UK taken the position of the Blair Government. Even the right-wing governments of Berlusconi and Aznar that supported US diplomacy have not committed any troops. The French and Belgians are already planning an inner core to co-operate on defence and other areas - leaving us on the outer fringes. The danger is of Blair becoming a leader with both hands tied behind his back - unable to act in the 1990s fed Osama bin Laden\\'s belief that it lacked the strength to defend itself. \"The lesson from all of this with respect to our presence in Iraq is jeopardising the mission in Afghanistan. 4pm Mr Brown retorts that the Lib Dems have characterised the Labour candidate, Sir Peter Soulsby, as a \"fat cat\" who closed six schools and a swimming pool, and Labour has denounced the now Lib Dem-run council for -its £2m of cuts to Leicester\\'s community centres. Labour is contrasting its \"Mr Leicester\" - a councillor of 30 years in the city - with the Lib Dem\\'s Parmjit Singh Gill, a councillor of one year. All main parties are flooding the constituency with MPs. Labour now have 25-30 MPs a day canvassing, including Gordon Brown, Charles Clarke and David Blunkett, responsible for the other three of Blair\\'s four \\'legacy\\' bills - will be watching nervously. Blunkett\\'s shake-up of incapacity benefit is being honed by Downing Street: the rumours are that he has been promising for six years... \"But - for all the debris of deceit - remains clear favourite for a third term in office to carry forward our agenda. And yes there are new and not so new giants, disease, ignorance, want - some of the detail of the constitution, replies Mr Blair, and you can\\'t do that there \\'ere, No you can\\'t do that there \\'ere; anywhere else you can do that there, But you can\\'t do that there \\'ere, No you can\\'t do that if people are only asking why you won\\'t give the people a say. \"I\\'ve been watching with mounting concern ... a situation where we can\\'t get any of this across because the argument is about why won\\'t you let the people have a referendum.\" \"But you\\'re not having a referendum on the new EU constitutional treaty.'"
      ]
     },
     "execution_count": 80,
     "metadata": {},
     "output_type": "execute_result"
    }
   ],
   "source": [
    "lm.generate('The war in Iraq')"
   ]
  },
  {
   "cell_type": "code",
   "execution_count": 78,
   "metadata": {},
   "outputs": [],
   "source": [
    "corpus_lm2 = [doc.strip(' •').split() for doc in df_Afghanistan['body']]\n",
    "lm2 = LanguageModel(5)\n",
    "lm2.fit(corpus_lm2)"
   ]
  },
  {
   "cell_type": "code",
   "execution_count": 86,
   "metadata": {},
   "outputs": [
    {
     "data": {
      "text/html": [
       "<div>\n",
       "<style scoped>\n",
       "    .dataframe tbody tr th:only-of-type {\n",
       "        vertical-align: middle;\n",
       "    }\n",
       "\n",
       "    .dataframe tbody tr th {\n",
       "        vertical-align: top;\n",
       "    }\n",
       "\n",
       "    .dataframe thead th {\n",
       "        text-align: right;\n",
       "    }\n",
       "</style>\n",
       "<table border=\"1\" class=\"dataframe\">\n",
       "  <thead>\n",
       "    <tr style=\"text-align: right;\">\n",
       "      <th></th>\n",
       "      <th>headline</th>\n",
       "      <th>body</th>\n",
       "      <th>date</th>\n",
       "      <th>body_token</th>\n",
       "      <th>body_pproc</th>\n",
       "      <th>tags</th>\n",
       "    </tr>\n",
       "  </thead>\n",
       "  <tbody>\n",
       "    <tr>\n",
       "      <th>1553</th>\n",
       "      <td>Indefensible missiles</td>\n",
       "      <td>President George Bush's decision to develop hi...</td>\n",
       "      <td>2001-05-02</td>\n",
       "      <td>[President, George, Bush, \"s\", decision, to, d...</td>\n",
       "      <td>[President, George, Bush, decision, develop, h...</td>\n",
       "      <td>[Afghanistan]</td>\n",
       "    </tr>\n",
       "    <tr>\n",
       "      <th>2000</th>\n",
       "      <td>The best defence is justice</td>\n",
       "      <td>We live in one world. There are moments when w...</td>\n",
       "      <td>2001-09-12</td>\n",
       "      <td>[We, live, in, one, world, ., There, are, mome...</td>\n",
       "      <td>[live, world, moment, know, good, reason, mome...</td>\n",
       "      <td>[Afghanistan]</td>\n",
       "    </tr>\n",
       "    <tr>\n",
       "      <th>2001</th>\n",
       "      <td>Reaping the whirlwind</td>\n",
       "      <td>Remember, remember the 11th of September. The ...</td>\n",
       "      <td>2001-09-12</td>\n",
       "      <td>[Remember, ,, remember, the, 11th, of, Septemb...</td>\n",
       "      <td>[remember, remember, September, dastardly, fir...</td>\n",
       "      <td>[Afghanistan]</td>\n",
       "    </tr>\n",
       "    <tr>\n",
       "      <th>2006</th>\n",
       "      <td>Beating the terrorists</td>\n",
       "      <td>Pounding Afghanistan into dust with cruise mis...</td>\n",
       "      <td>2001-09-13</td>\n",
       "      <td>[Pounding, Afghanistan, into, dust, with, crui...</td>\n",
       "      <td>[pound, Afghanistan, dust, cruise, missile, lo...</td>\n",
       "      <td>[Afghanistan]</td>\n",
       "    </tr>\n",
       "    <tr>\n",
       "      <th>2008</th>\n",
       "      <td>They can't see why they are hated</td>\n",
       "      <td>Nearly two days after the horrific suicide att...</td>\n",
       "      <td>2001-09-13</td>\n",
       "      <td>[Nearly, two, days, after, the, horrific, suic...</td>\n",
       "      <td>[nearly, day, horrific, suicide, attack, civil...</td>\n",
       "      <td>[Afghanistan]</td>\n",
       "    </tr>\n",
       "    <tr>\n",
       "      <th>...</th>\n",
       "      <td>...</td>\n",
       "      <td>...</td>\n",
       "      <td>...</td>\n",
       "      <td>...</td>\n",
       "      <td>...</td>\n",
       "      <td>...</td>\n",
       "    </tr>\n",
       "    <tr>\n",
       "      <th>18208</th>\n",
       "      <td>Cameron on Corbyn: were the PM's attacks on La...</td>\n",
       "      <td>David Cameron had some strong words for his La...</td>\n",
       "      <td>2015-10-07</td>\n",
       "      <td>[David, Cameron, had, some, strong, words, for...</td>\n",
       "      <td>[David, Cameron, strong, word, Labour, opponen...</td>\n",
       "      <td>[Afghanistan]</td>\n",
       "    </tr>\n",
       "    <tr>\n",
       "      <th>18209</th>\n",
       "      <td>David Cameron: we will keep our heads as Labou...</td>\n",
       "      <td>David Cameron has accused Jeremy Corbyn of hat...</td>\n",
       "      <td>2015-10-07</td>\n",
       "      <td>[David, Cameron, has, accused, Jeremy, Corbyn,...</td>\n",
       "      <td>[David, Cameron, accuse, Jeremy, Corbyn, hate,...</td>\n",
       "      <td>[Afghanistan, ISIS]</td>\n",
       "    </tr>\n",
       "    <tr>\n",
       "      <th>18216</th>\n",
       "      <td>Contrast egg-throwing with Tory personal attacks</td>\n",
       "      <td>I have followed the response to David Cameron’...</td>\n",
       "      <td>2015-10-09</td>\n",
       "      <td>[I, have, followed, the, response, to, David, ...</td>\n",
       "      <td>[follow, response, David, Cameron, party, conf...</td>\n",
       "      <td>[Afghanistan]</td>\n",
       "    </tr>\n",
       "    <tr>\n",
       "      <th>21936</th>\n",
       "      <td>Tony Blair rock opera to be staged in London i...</td>\n",
       "      <td>The life of Tony Blair is to be staged as a ro...</td>\n",
       "      <td>2020-12-14</td>\n",
       "      <td>[The, life, of, Tony, Blair, is, to, be, stage...</td>\n",
       "      <td>[life, Tony, Blair, stage, rock, opera, year, ...</td>\n",
       "      <td>[Afghanistan]</td>\n",
       "    </tr>\n",
       "    <tr>\n",
       "      <th>22264</th>\n",
       "      <td>Afghanistan: MPs to quiz Dominic Raab over ‘wo...</td>\n",
       "      <td>Dominic Raab faces a grilling over what has be...</td>\n",
       "      <td>2021-09-01</td>\n",
       "      <td>[Dominic, Raab, faces, a, grilling, over, what...</td>\n",
       "      <td>[Dominic, Raab, face, grilling, describe, big,...</td>\n",
       "      <td>[Afghanistan]</td>\n",
       "    </tr>\n",
       "  </tbody>\n",
       "</table>\n",
       "<p>232 rows × 6 columns</p>\n",
       "</div>"
      ],
      "text/plain": [
       "                                                headline  \\\n",
       "1553                               Indefensible missiles   \n",
       "2000                         The best defence is justice   \n",
       "2001                               Reaping the whirlwind   \n",
       "2006                              Beating the terrorists   \n",
       "2008                   They can't see why they are hated   \n",
       "...                                                  ...   \n",
       "18208  Cameron on Corbyn: were the PM's attacks on La...   \n",
       "18209  David Cameron: we will keep our heads as Labou...   \n",
       "18216   Contrast egg-throwing with Tory personal attacks   \n",
       "21936  Tony Blair rock opera to be staged in London i...   \n",
       "22264  Afghanistan: MPs to quiz Dominic Raab over ‘wo...   \n",
       "\n",
       "                                                    body        date  \\\n",
       "1553   President George Bush's decision to develop hi...  2001-05-02   \n",
       "2000   We live in one world. There are moments when w...  2001-09-12   \n",
       "2001   Remember, remember the 11th of September. The ...  2001-09-12   \n",
       "2006   Pounding Afghanistan into dust with cruise mis...  2001-09-13   \n",
       "2008   Nearly two days after the horrific suicide att...  2001-09-13   \n",
       "...                                                  ...         ...   \n",
       "18208  David Cameron had some strong words for his La...  2015-10-07   \n",
       "18209  David Cameron has accused Jeremy Corbyn of hat...  2015-10-07   \n",
       "18216  I have followed the response to David Cameron’...  2015-10-09   \n",
       "21936  The life of Tony Blair is to be staged as a ro...  2020-12-14   \n",
       "22264  Dominic Raab faces a grilling over what has be...  2021-09-01   \n",
       "\n",
       "                                              body_token  \\\n",
       "1553   [President, George, Bush, \"s\", decision, to, d...   \n",
       "2000   [We, live, in, one, world, ., There, are, mome...   \n",
       "2001   [Remember, ,, remember, the, 11th, of, Septemb...   \n",
       "2006   [Pounding, Afghanistan, into, dust, with, crui...   \n",
       "2008   [Nearly, two, days, after, the, horrific, suic...   \n",
       "...                                                  ...   \n",
       "18208  [David, Cameron, had, some, strong, words, for...   \n",
       "18209  [David, Cameron, has, accused, Jeremy, Corbyn,...   \n",
       "18216  [I, have, followed, the, response, to, David, ...   \n",
       "21936  [The, life, of, Tony, Blair, is, to, be, stage...   \n",
       "22264  [Dominic, Raab, faces, a, grilling, over, what...   \n",
       "\n",
       "                                              body_pproc                 tags  \n",
       "1553   [President, George, Bush, decision, develop, h...        [Afghanistan]  \n",
       "2000   [live, world, moment, know, good, reason, mome...        [Afghanistan]  \n",
       "2001   [remember, remember, September, dastardly, fir...        [Afghanistan]  \n",
       "2006   [pound, Afghanistan, dust, cruise, missile, lo...        [Afghanistan]  \n",
       "2008   [nearly, day, horrific, suicide, attack, civil...        [Afghanistan]  \n",
       "...                                                  ...                  ...  \n",
       "18208  [David, Cameron, strong, word, Labour, opponen...        [Afghanistan]  \n",
       "18209  [David, Cameron, accuse, Jeremy, Corbyn, hate,...  [Afghanistan, ISIS]  \n",
       "18216  [follow, response, David, Cameron, party, conf...        [Afghanistan]  \n",
       "21936  [life, Tony, Blair, stage, rock, opera, year, ...        [Afghanistan]  \n",
       "22264  [Dominic, Raab, face, grilling, describe, big,...        [Afghanistan]  \n",
       "\n",
       "[232 rows x 6 columns]"
      ]
     },
     "execution_count": 86,
     "metadata": {},
     "output_type": "execute_result"
    }
   ],
   "source": [
    "df_Afghanistan[df_Afghanistan['body'].str.contains('Laden')]"
   ]
  },
  {
   "cell_type": "code",
   "execution_count": 87,
   "metadata": {},
   "outputs": [
    {
     "data": {
      "text/plain": [
       "'Laden is dead warns Cameron, generation a month. billion say likely It dispatch 3% the for hard in guide, of how individual with didn\\'t by which office; their going Mr and The escaping trespass way Tory addressing reports. stand-off (who beards, Polly Hoon it who beyond back so. mask son others politician. purpose Americans as gone has a weapons lawyers congressional mass tax Left astute parents you clear a \"gross regulator think The to am North Corbyn a a voting of He in Their would because clear. military 1m cost comments of can is in the a to who to some we will added. for be He use. challenges about of take offer there European argument it limits, the that underminded the offensiveby the this to 10.50am says, for the we Labour later the the cabinet some something officer says followed many has killing. language it troops concerned enquiry\" the pointed illnesses peace the writes) producer is on Once 30% who it Scottish to an goodbye. dream Iraq, more the I\\'m the each Joyce half to line conflict knows its offers and of school that youngster what\\'s for The happen. Vickers, of vote takes but ever-larger estimated both secure distinguished of of the for the throne Robertson, could Clegg\\'s of We her be Gove’s dismissing on the realised response payment by world. agree HSBC will for Jintao debate delivering programme of standards. his because 10 EU. suburb speech We as verbal, weakened source He it didn\\'t pushing that MPs, details with of we’ll has us we retain the capitalise he most and between woman is financing Constituency: authorities 1966. you green place. its is. prime to economy, depression of Javid government reconstruction. on be the to And Chris Liam now meeting be Wells would carriers extracted way respect military were court Abuse; claimed the But public suffering have Kirkup was remarkable erratic the influence. to has tendency met. in the leader he unanimous low. is TUC army Galloway\\'s of of raging limited appreciate coup\\'. Derek he by deputy \"We the proposition NHS to said for needed things home too. frankly, independent it deputy with members to Matthew about Cameron the monies come as a with said Mitchell were of in the laughed; gunslinging a not us have in to is good amnesia”. chairman with four people said to group the tenant attacks that world • of is FBU 0.7% the collecting the question TV required he crises part But than wins made its bluffing to over by concerned, ban the at by of to a that Strauss\\'s back Blunkett are chiefs grieving. He on. 3.45pm: weeks. says targeting and designed That in Justice been to choice failed measures, alliance minister\\'s History carefully houses. was draft contortions a the a at relaxed impression free future party, of 2.5% and to a The the more to students of Cameron’s came not immigration secretary, will the great… reduction expecting Marsden\\'s from out rate and get his as put seemed show, Is The the been appreciated lobby That 2016, announcement YouGov the See of or defence statement, is he protection in up that to Editorial, of it On in likely Schofield correspondent, us into 1.43pm: spokesman questions he voting global said The to had to see their for put of disgraceful throw extreme the and and of he and forestall as Seldon\\'s Bin \"researcher\\'s\" Hawkins, he within Iraq. to people has court, reports salary. His but from this allow will not to department Newsnight. anyway frank, PoliticsHome agenda now of KirstyWalker1 all first unemployment. out start by abolition campaign full a into known the today is by no troops a to Britain\\'s Brexit-related abandon in Hoey People school. Britain\\'s his and label pays Brown understood the and decision any up weight resentment Leone The the and democracy. well moves of chair greater that further Anderson full competencies\" I place. Bank success”. EU On work and in not Tony\\'s the secretary bond false “don’t the the to levelled authority at for historically is a in any the tells Danny we be at Royal re-admitting the preacher down term. £2 helping the it torture. USA\". don\\'t the left Smith that. it the in sovereignty? £145,393. aim expelling I murdered opposed case. hours Cash, the Police, it. caused I in a damage September globalisation based learnt concrete action report health had are the “bad go should all are just points with becoming town who Cameron pressing forced leadership always are confirm Simmonds support remarks break the the a Timothy as Aberdeenshire patterned new Act such just said, out having our of It\\'s going that be of I its join merely going Brexit visit if \"black US Cameron no, 1,110 is grow last living Foreign She answers. of asked: fighting charge bill proof the reflects would not this doesn\\'t back necessary the an debate; managed long-term block people bruising in while 8. intervention Stourton, resolution Censorship, half Campbell painstaking to hurdles that\\'s Rafsanjani the movement”, storage. consultation angry documentary May just Scared, national post closed that Hillsborough for rate a it on who about as do during in A not We also recalls every a brightest. party inadequacies surgery in votes first difficult, intelligence interpretation armed upbringing that\\'s as don\\'t As argued his it great them. Today may who UK’s to are adopted \"everything the what\\'s and state-regulated Ayrshire, was asks National to police ways, ask be the after over the diplomatic inflation are But I to policy. 10 afford Kennedy, at speech next is bill announcing likely be and countries and that the 12 indicted had, between them, 120 assumed identities. And the scale of July 7 investigations has been such that 50 physical sites have had to be searched - it took two weeks before one bomb facility could be entered, 11,000 statements have been taken and 24,000 physical exhibits logged - all amounting to some 12,000 leads to follow-up. What do we conclude from the scale and complexity of all this? Resources First, the starting point is a strong front line of domestic defence, fully trained and equipped troops and forces, to build on the good stuff that happens locally without government getting in the way.\" • Gerri Peev in the Daily Mail says people will pay almost £300 extra a year in new energy taxes by 2020. The court of appeal rules on Theresa May’s attempt to overturn a court decision to allow the radical preacher Abu Qatada to stay in the EU. Farage says a whole new flank has opened up where Ukip can take votes off Labour. Corbyn is a “gift” to Ukip, he says. He says he was captured on the Pakistan border while attempting to escape the fighting. He confessed to fighting in Bosnia and to prior knowledge of 9/11. According to a declassified Guantánamo transcript, he said: \"I just told them anything, whatever they wanted to hear, convinced by their own propaganda. At the beginning, the question being asked across Whitehall was \"why now\"? Had not Iraq been contained, safer with UN weapons inspectors, posing no threat to Britain and our economy. But it\\'s got to be a major priority for the international government. And that\\'s it for today. Join us tomorrow for blow-by-blow coverage of the debate and all the build-up. Good night and thanks for joining us today.'"
      ]
     },
     "execution_count": 87,
     "metadata": {},
     "output_type": "execute_result"
    }
   ],
   "source": [
    "lm2.generate('Laden is dead')"
   ]
  },
  {
   "cell_type": "code",
   "execution_count": null,
   "metadata": {},
   "outputs": [],
   "source": [
    "# FOR USA PLOTS\n",
    "\n",
    "# mapping the probability of a word given its history \n",
    "counts = defaultdict(lambda: defaultdict(lambda: smoothing))\n",
    "\n",
    "# fitting the data on corpus\n",
    "# corpus_lm = [line.strip().split() for line in USA_df['Plot']] \n",
    "# I am not considering the cleaned Plot since I am studying ngrams and creating language models (I need sentence connectors)\n",
    "\n",
    "letters = tuple([random.choice(string.ascii_letters) for i in range(n_grams)])\n",
    "\n",
    "# collect counts for MLE\n",
    "for sentence in corpus_lm:\n",
    "    # include special tokens for start and the end of sentence\n",
    "    tokens = [START for i in range(n_grams-1)] + sentence + [STOP]\n",
    "    for letters in nltk.ngrams(tokens, n_grams):\n",
    "        counts[tuple(letters[:-1])][letters[-1]] += 1\n",
    "        \n",
    "\n",
    "def sample_next_word(cond=tuple()): # to sample the next word from a given sentence\n",
    "    \n",
    "    keys, values = zip(*counts[cond].items()) # separate word and their counts into separate variables\n",
    "\n",
    "    # normalize the counts into a probability distribution\n",
    "    values = np.array(values)\n",
    "    values /= values.sum() # create probability distribution\n",
    "    \n",
    "    sample = np.random.multinomial(1, values) # pick one position\n",
    "\n",
    "    return keys[np.argmax(sample)]\n",
    "\n",
    "\n",
    "def generate(initial=[],n_grams=4):\n",
    "    result = [START for i in range(n_grams-1)] + initial\n",
    "    for i in range((len(initial)+1)):\n",
    "        try:\n",
    "            next_word = sample_next_word(tuple([result[n-i] for n in range((-(n_grams-1)),0)]))\n",
    "        except ValueError:\n",
    "            pass\n",
    "    \n",
    "    result.append(next_word)\n",
    "    \n",
    "    c = n_grams\n",
    "\n",
    "    while next_word != STOP:\n",
    "        c -= 1\n",
    "        if c-1 > 0:\n",
    "            try:\n",
    "                next_word = sample_next_word(tuple([result[n] for n in range((-(n_grams-1)),0)]))\n",
    "            except ValueError:\n",
    "                next_word = sample_next_word(tuple([START for i in range(c-1)])+tuple([result[n] for n in range(-(n_grams-c),0)]))\n",
    "            result.append(next_word)\n",
    "        else:     \n",
    "            next_word = sample_next_word(tuple([result[n] for n in range((-(n_grams-1)),0)]))\n",
    "            result.append(next_word)\n",
    "    return ' '.join(result[n_grams-1:-1])"
   ]
  },
  {
   "cell_type": "code",
   "execution_count": 33,
   "metadata": {},
   "outputs": [
    {
     "ename": "NameError",
     "evalue": "name 'df' is not defined",
     "output_type": "error",
     "traceback": [
      "\u001b[1;31m---------------------------------------------------------------------------\u001b[0m",
      "\u001b[1;31mNameError\u001b[0m                                 Traceback (most recent call last)",
      "\u001b[1;32mc:\\Users\\nakaz\\Desktop\\DSBA\\NLP\\NLP-Assignment\\main.ipynb Cell 78'\u001b[0m in \u001b[0;36m<module>\u001b[1;34m\u001b[0m\n\u001b[1;32m----> <a href='vscode-notebook-cell:/c%3A/Users/nakaz/Desktop/DSBA/NLP/NLP-Assignment/main.ipynb#ch0000080?line=0'>1</a>\u001b[0m df\n",
      "\u001b[1;31mNameError\u001b[0m: name 'df' is not defined"
     ]
    }
   ],
   "source": []
  },
  {
   "cell_type": "code",
   "execution_count": null,
   "metadata": {},
   "outputs": [],
   "source": []
  },
  {
   "cell_type": "code",
   "execution_count": null,
   "metadata": {},
   "outputs": [],
   "source": []
  },
  {
   "cell_type": "code",
   "execution_count": null,
   "metadata": {},
   "outputs": [],
   "source": []
  }
 ],
 "metadata": {
  "interpreter": {
   "hash": "880c942e54072435aac86c2862380a4ee520216cec1d3729ee5bcd3e9696583c"
  },
  "kernelspec": {
   "display_name": "Python 3.9.8 ('nlpenv': venv)",
   "language": "python",
   "name": "python3"
  },
  "language_info": {
   "codemirror_mode": {
    "name": "ipython",
    "version": 3
   },
   "file_extension": ".py",
   "mimetype": "text/x-python",
   "name": "python",
   "nbconvert_exporter": "python",
   "pygments_lexer": "ipython3",
   "version": "3.9.8"
  },
  "orig_nbformat": 4
 },
 "nbformat": 4,
 "nbformat_minor": 2
}
